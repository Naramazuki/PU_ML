{
 "cells": [
  {
   "cell_type": "code",
   "execution_count": 1,
   "metadata": {},
   "outputs": [],
   "source": [
    "import torch\n",
    "import pandas as pd\n",
    "import esm\n",
    "import matplotlib.pyplot as plt\n",
    "import os\n",
    "import tensorflow as tf\n",
    "from sklearn.metrics import ConfusionMatrixDisplay\n",
    "import seaborn as sns\n",
    "from sklearn.utils.class_weight import compute_class_weight\n",
    "from sklearn.metrics import balanced_accuracy_score\n",
    "from Bio import SeqIO\n",
    "import numpy as np"
   ]
  },
  {
   "cell_type": "markdown",
   "metadata": {},
   "source": [
    "# Data Load\n"
   ]
  },
  {
   "cell_type": "markdown",
   "metadata": {},
   "source": [
    "Open Non Core Pu file\n"
   ]
  },
  {
   "cell_type": "code",
   "execution_count": 2,
   "metadata": {},
   "outputs": [],
   "source": [
    "with open(\"SET_PUs_NON_CORES (1).txt\") as f:\n",
    "    No_Pu = f.readlines()\n",
    "\n",
    "for i in range(len(No_Pu)):\n",
    "    No_Pu[i] = No_Pu[i].strip()"
   ]
  },
  {
   "cell_type": "markdown",
   "metadata": {},
   "source": [
    "Open Fasta data\n"
   ]
  },
  {
   "cell_type": "code",
   "execution_count": 3,
   "metadata": {},
   "outputs": [],
   "source": [
    "fasta_file = \"DB_PU_NONPU_SEQ.fasta\"\n",
    "fasta_sequence = []\n",
    "with open(fasta_file, \"r\") as f:\n",
    "    for record in SeqIO.parse(f, \"fasta\"):\n",
    "        fasta_sequence.append(record)"
   ]
  },
  {
   "cell_type": "markdown",
   "metadata": {},
   "source": [
    "Open Pu File\n"
   ]
  },
  {
   "cell_type": "code",
   "execution_count": 4,
   "metadata": {},
   "outputs": [],
   "source": [
    "Pu = pd.read_table(\n",
    "    \"LISTS_CATFS_PU_PROTOTYPE_with_fused_famillies (1)\", sep=\"\\t\", header=None\n",
    ")"
   ]
  },
  {
   "cell_type": "code",
   "execution_count": 5,
   "metadata": {},
   "outputs": [],
   "source": [
    "data = []\n",
    "for line in Pu[0]:\n",
    "    liste = []\n",
    "\n",
    "    line = line.split(\" \")\n",
    "    for element in line:\n",
    "        if element != \"\":\n",
    "            liste.append(element)\n",
    "    data.append(liste)"
   ]
  },
  {
   "cell_type": "code",
   "execution_count": 6,
   "metadata": {},
   "outputs": [],
   "source": [
    "CLASS = []\n",
    "ARCHITECTURE = []\n",
    "TOPOLOGY = []\n",
    "NANOFOLD = []\n",
    "FREQUENCY = []\n",
    "PROTO_FOLD_PROTOTYPE = []\n",
    "PU_FAMILY_MEMBERS_CATEGORY = []\n",
    "for element in data[7:]:\n",
    "    CLASS.append(element[0])\n",
    "    ARCHITECTURE.append(element[1])\n",
    "    TOPOLOGY.append(element[2])\n",
    "    NANOFOLD.append(element[3])\n",
    "    FREQUENCY.append(element[4])\n",
    "    PROTO_FOLD_PROTOTYPE.append(element[5])\n",
    "    PU_FAMILY_MEMBERS_CATEGORY.append(element[6:])"
   ]
  },
  {
   "cell_type": "code",
   "execution_count": 7,
   "metadata": {},
   "outputs": [],
   "source": [
    "for i in range(len(PU_FAMILY_MEMBERS_CATEGORY)):\n",
    "    PU_FAMILY_MEMBERS_CATEGORY[i][0] = PU_FAMILY_MEMBERS_CATEGORY[i][0].split(\":\")[1]"
   ]
  },
  {
   "cell_type": "code",
   "execution_count": 8,
   "metadata": {},
   "outputs": [],
   "source": [
    "d = {\n",
    "    \"CLASS\": CLASS,\n",
    "    \"ARCHITECTURE\": ARCHITECTURE,\n",
    "    \"TOPOLOGY\": TOPOLOGY,\n",
    "    \"NANOFOLD\": NANOFOLD,\n",
    "    \"FREQUENCY\": FREQUENCY,\n",
    "    \"PROTO_FOLD_PROTOTYPE\": PROTO_FOLD_PROTOTYPE,\n",
    "    \"PU_FAMILY_MEMBERS_CATEGORY\": PU_FAMILY_MEMBERS_CATEGORY,\n",
    "}"
   ]
  },
  {
   "cell_type": "code",
   "execution_count": 9,
   "metadata": {},
   "outputs": [],
   "source": [
    "Pu_families = pd.DataFrame(data=d)"
   ]
  },
  {
   "cell_type": "code",
   "execution_count": 11,
   "metadata": {},
   "outputs": [
    {
     "data": {
      "text/html": [
       "<div>\n",
       "<style scoped>\n",
       "    .dataframe tbody tr th:only-of-type {\n",
       "        vertical-align: middle;\n",
       "    }\n",
       "\n",
       "    .dataframe tbody tr th {\n",
       "        vertical-align: top;\n",
       "    }\n",
       "\n",
       "    .dataframe thead th {\n",
       "        text-align: right;\n",
       "    }\n",
       "</style>\n",
       "<table border=\"1\" class=\"dataframe\">\n",
       "  <thead>\n",
       "    <tr style=\"text-align: right;\">\n",
       "      <th></th>\n",
       "      <th>CLASS</th>\n",
       "      <th>ARCHITECTURE</th>\n",
       "      <th>TOPOLOGY</th>\n",
       "      <th>NANOFOLD</th>\n",
       "      <th>FREQUENCY</th>\n",
       "      <th>PROTO_FOLD_PROTOTYPE</th>\n",
       "      <th>PU_FAMILY_MEMBERS_CATEGORY</th>\n",
       "    </tr>\n",
       "  </thead>\n",
       "  <tbody>\n",
       "    <tr>\n",
       "      <th>0</th>\n",
       "      <td>Alpha-beta</td>\n",
       "      <td>bab</td>\n",
       "      <td>bUaUb</td>\n",
       "      <td>35.g306</td>\n",
       "      <td>9</td>\n",
       "      <td>1MJNA_2_127_163</td>\n",
       "      <td>[1U14A_2_1_37, 2WW8A_12_487_525, 2DZXA_4_82_11...</td>\n",
       "    </tr>\n",
       "    <tr>\n",
       "      <th>1</th>\n",
       "      <td>All-alpha</td>\n",
       "      <td>a</td>\n",
       "      <td>a</td>\n",
       "      <td>30.g147</td>\n",
       "      <td>91</td>\n",
       "      <td>2EO5A_10_78_103</td>\n",
       "      <td>[2EO5A_10_78_103, 3QVQA_7_118_144, 3V7NA_14_35...</td>\n",
       "    </tr>\n",
       "    <tr>\n",
       "      <th>2</th>\n",
       "      <td>All-alpha</td>\n",
       "      <td>a</td>\n",
       "      <td>a</td>\n",
       "      <td>20.g594</td>\n",
       "      <td>5</td>\n",
       "      <td>1YBTA_1_16_34</td>\n",
       "      <td>[3JSZA_14_357_376, 3A24A_10_525_542, 1YBTA_1_1...</td>\n",
       "    </tr>\n",
       "    <tr>\n",
       "      <th>3</th>\n",
       "      <td>Alpha-beta</td>\n",
       "      <td>aba</td>\n",
       "      <td>aUbLa</td>\n",
       "      <td>35.g162</td>\n",
       "      <td>157</td>\n",
       "      <td>1YISA_10_258_288</td>\n",
       "      <td>[3K7XA_10_267_294, 4G10A_4_105_133, 3C3RA_10_2...</td>\n",
       "    </tr>\n",
       "    <tr>\n",
       "      <th>4</th>\n",
       "      <td>Alpha-beta</td>\n",
       "      <td>baba</td>\n",
       "      <td>bUaUbLa</td>\n",
       "      <td>45.g94</td>\n",
       "      <td>31</td>\n",
       "      <td>3ICSA_11_510_555</td>\n",
       "      <td>[2HHGA_2_86_132, 3SNKA_1_1_48, 2UUUA_6_300_347...</td>\n",
       "    </tr>\n",
       "  </tbody>\n",
       "</table>\n",
       "</div>"
      ],
      "text/plain": [
       "        CLASS ARCHITECTURE TOPOLOGY NANOFOLD FREQUENCY PROTO_FOLD_PROTOTYPE  \\\n",
       "0  Alpha-beta          bab    bUaUb  35.g306         9      1MJNA_2_127_163   \n",
       "1   All-alpha            a        a  30.g147        91      2EO5A_10_78_103   \n",
       "2   All-alpha            a        a  20.g594         5        1YBTA_1_16_34   \n",
       "3  Alpha-beta          aba    aUbLa  35.g162       157     1YISA_10_258_288   \n",
       "4  Alpha-beta         baba  bUaUbLa   45.g94        31     3ICSA_11_510_555   \n",
       "\n",
       "                          PU_FAMILY_MEMBERS_CATEGORY  \n",
       "0  [1U14A_2_1_37, 2WW8A_12_487_525, 2DZXA_4_82_11...  \n",
       "1  [2EO5A_10_78_103, 3QVQA_7_118_144, 3V7NA_14_35...  \n",
       "2  [3JSZA_14_357_376, 3A24A_10_525_542, 1YBTA_1_1...  \n",
       "3  [3K7XA_10_267_294, 4G10A_4_105_133, 3C3RA_10_2...  \n",
       "4  [2HHGA_2_86_132, 3SNKA_1_1_48, 2UUUA_6_300_347...  "
      ]
     },
     "execution_count": 11,
     "metadata": {},
     "output_type": "execute_result"
    }
   ],
   "source": [
    "Pu_families.head()"
   ]
  },
  {
   "cell_type": "markdown",
   "metadata": {},
   "source": [
    "Set data labels\n"
   ]
  },
  {
   "cell_type": "code",
   "execution_count": 12,
   "metadata": {},
   "outputs": [],
   "source": [
    "Sequence = []\n",
    "Is_pu = []\n",
    "file = []\n",
    "for record in fasta_sequence:\n",
    "    Sequence.append(str(record.seq))\n",
    "    file_name = f'{record.id}_{record.description.split(\"|\")[1].split(\" \")[1].split(\":\")[1]}_{record.description.split(\"|\")[2].split(\" \")[1].split(\":\")[1]}_{record.description.split(\"|\")[3].split(\" \")[1].split(\":\")[1]}'\n",
    "    file.append(file_name)\n",
    "    if file_name in No_Pu:\n",
    "        Is_pu.append(0)\n",
    "    elif file_name in Pu_families[\"PROTO_FOLD_PROTOTYPE\"].values:\n",
    "        Is_pu.append(1)\n",
    "    else:\n",
    "        Is_pu.append(2)"
   ]
  },
  {
   "cell_type": "code",
   "execution_count": 13,
   "metadata": {},
   "outputs": [],
   "source": [
    "d = {\"Sequence\": Sequence, \"Is_pu\": Is_pu, \"file\": file}"
   ]
  },
  {
   "cell_type": "code",
   "execution_count": 14,
   "metadata": {},
   "outputs": [],
   "source": [
    "seq_data = pd.DataFrame(data=d)"
   ]
  },
  {
   "cell_type": "code",
   "execution_count": 15,
   "metadata": {},
   "outputs": [
    {
     "data": {
      "text/html": [
       "<div>\n",
       "<style scoped>\n",
       "    .dataframe tbody tr th:only-of-type {\n",
       "        vertical-align: middle;\n",
       "    }\n",
       "\n",
       "    .dataframe tbody tr th {\n",
       "        vertical-align: top;\n",
       "    }\n",
       "\n",
       "    .dataframe thead th {\n",
       "        text-align: right;\n",
       "    }\n",
       "</style>\n",
       "<table border=\"1\" class=\"dataframe\">\n",
       "  <thead>\n",
       "    <tr style=\"text-align: right;\">\n",
       "      <th></th>\n",
       "      <th>Sequence</th>\n",
       "      <th>Is_pu</th>\n",
       "      <th>file</th>\n",
       "    </tr>\n",
       "  </thead>\n",
       "  <tbody>\n",
       "    <tr>\n",
       "      <th>0</th>\n",
       "      <td>DGERQFSTLKSTVEAIWAG</td>\n",
       "      <td>2</td>\n",
       "      <td>12ASA_10_122_140</td>\n",
       "    </tr>\n",
       "    <tr>\n",
       "      <th>1</th>\n",
       "      <td>AYIAKQRQISFVKSHFSRQLEERL</td>\n",
       "      <td>2</td>\n",
       "      <td>12ASA_10_1_24</td>\n",
       "    </tr>\n",
       "    <tr>\n",
       "      <th>2</th>\n",
       "      <td>IKATEAAVSEEFGLAP</td>\n",
       "      <td>2</td>\n",
       "      <td>12ASA_10_141_156</td>\n",
       "    </tr>\n",
       "    <tr>\n",
       "      <th>3</th>\n",
       "      <td>FLPDQIHFVHSQELLSRYPDLDAKGRERAIAKDLGAVFLV</td>\n",
       "      <td>2</td>\n",
       "      <td>12ASA_10_157_196</td>\n",
       "    </tr>\n",
       "    <tr>\n",
       "      <th>4</th>\n",
       "      <td>GIGGKLSDGHRHDVRA</td>\n",
       "      <td>2</td>\n",
       "      <td>12ASA_10_197_212</td>\n",
       "    </tr>\n",
       "  </tbody>\n",
       "</table>\n",
       "</div>"
      ],
      "text/plain": [
       "                                   Sequence  Is_pu              file\n",
       "0                       DGERQFSTLKSTVEAIWAG      2  12ASA_10_122_140\n",
       "1                  AYIAKQRQISFVKSHFSRQLEERL      2     12ASA_10_1_24\n",
       "2                          IKATEAAVSEEFGLAP      2  12ASA_10_141_156\n",
       "3  FLPDQIHFVHSQELLSRYPDLDAKGRERAIAKDLGAVFLV      2  12ASA_10_157_196\n",
       "4                          GIGGKLSDGHRHDVRA      2  12ASA_10_197_212"
      ]
     },
     "execution_count": 15,
     "metadata": {},
     "output_type": "execute_result"
    }
   ],
   "source": [
    "seq_data.head()"
   ]
  },
  {
   "cell_type": "code",
   "execution_count": 13,
   "metadata": {},
   "outputs": [
    {
     "data": {
      "image/png": "[encoded data removed]",
      "text/plain": [
       "<Figure size 640x480 with 1 Axes>"
      ]
     },
     "metadata": {},
     "output_type": "display_data"
    }
   ],
   "source": [
    "# Count on pu and non pu\n",
    "\n",
    "\n",
    "sns.countplot(x=\"Is_pu\", data=seq_data.loc[(seq_data[\"Is_pu\"] != 2)], hue=\"Is_pu\")\n",
    "plt.show()"
   ]
  },
  {
   "cell_type": "code",
   "execution_count": 14,
   "metadata": {},
   "outputs": [
    {
     "name": "stdout",
     "output_type": "stream",
     "text": [
      "unkown 1051653\n",
      "pu 2081\n",
      "non-pu 2981\n"
     ]
    }
   ],
   "source": [
    "# count is_pu=2 and plot value using pandas\n",
    "print(\n",
    "    \"unkown %d\\npu %d\\nnon-pu %d\"\n",
    "    % (\n",
    "        seq_data.loc[(seq_data[\"Is_pu\"] == 2)][\"Is_pu\"].count(),\n",
    "        seq_data.loc[(seq_data[\"Is_pu\"] == 1)][\"Is_pu\"].count(),\n",
    "        seq_data.loc[(seq_data[\"Is_pu\"] == 0)][\"Is_pu\"].count(),\n",
    "    )\n",
    ")"
   ]
  },
  {
   "cell_type": "markdown",
   "metadata": {},
   "source": [
    "# Embedding\n"
   ]
  },
  {
   "cell_type": "markdown",
   "metadata": {},
   "source": [
    "Data for embedding\n"
   ]
  },
  {
   "cell_type": "code",
   "execution_count": 36,
   "metadata": {},
   "outputs": [],
   "source": [
    "pre_emb_pu = seq_data.loc[(seq_data[\"Is_pu\"] == 1)][[\"Sequence\", \"file\"]]\n",
    "pre_emb_nonpu = seq_data.loc[(seq_data[\"Is_pu\"] == 0)][[\"Sequence\", \"file\"]]"
   ]
  },
  {
   "cell_type": "markdown",
   "metadata": {},
   "source": [
    "Transformers\n"
   ]
  },
  {
   "cell_type": "code",
   "execution_count": 20,
   "metadata": {},
   "outputs": [],
   "source": [
    "EMB_PATH_PU = \"./embeddings/pu\"\n",
    "EMB_PATH_NONPU = \"./embeddings/nonpu\""
   ]
  },
  {
   "cell_type": "code",
   "execution_count": 34,
   "metadata": {},
   "outputs": [],
   "source": [
    "def embedding_preparation(pre_emb, EMB_PATH):\n",
    "    model, alphabet = esm.pretrained.esm2_t33_650M_UR50D()\n",
    "\n",
    "    batch_converter = alphabet.get_batch_converter()\n",
    "\n",
    "    model.eval()  # disables dropout for deterministic results\n",
    "\n",
    "    for line in pre_emb.values:\n",
    "        # Prepare data (first 2 sequences from ESMStructuralSplitDataset superfamily / 4)\n",
    "\n",
    "        data = [(line[1], line[0])]\n",
    "\n",
    "        batch_labels, batch_strs, batch_tokens = batch_converter(data)\n",
    "\n",
    "        batch_lens = (batch_tokens != alphabet.padding_idx).sum(1)\n",
    "\n",
    "        # Extract per-residue representations (on CPU)\n",
    "\n",
    "        with torch.no_grad():\n",
    "            results = model(batch_tokens, repr_layers=[33], return_contacts=True)\n",
    "\n",
    "            torch.save(results, f\"{EMB_PATH}/{line[1]}.pt\")"
   ]
  },
  {
   "cell_type": "code",
   "execution_count": 37,
   "metadata": {},
   "outputs": [],
   "source": [
    "embedding_preparation(pre_emb_pu, EMB_PATH_PU)\n",
    "embedding_preparation(pre_emb_nonpu, EMB_PATH_NONPU)"
   ]
  },
  {
   "cell_type": "markdown",
   "metadata": {},
   "source": [
    "# Dataset preparation\n"
   ]
  },
  {
   "cell_type": "code",
   "execution_count": null,
   "metadata": {},
   "outputs": [],
   "source": [
    "def padding(tensor, max_size):\n",
    "    if tensor.numpy().shape[0] < max_size:\n",
    "        padding = max_size - tensor.numpy().shape[0]\n",
    "        tensor = tf.pad(tensor, ((0, padding), (0, 0)))\n",
    "    return tensor"
   ]
  },
  {
   "cell_type": "code",
   "execution_count": 17,
   "metadata": {},
   "outputs": [],
   "source": [
    "# List of all embeddings\n",
    "def get_embedding_list(PATH, label, max_size):\n",
    "    list_of_embeddings = []\n",
    "    for filename in os.listdir(PATH):\n",
    "        embedding_dict = torch.load(os.path.join(PATH, filename))[\"representations\"][\n",
    "            33\n",
    "        ][0]\n",
    "\n",
    "        embedding_tensor = tf.convert_to_tensor(embedding_dict)\n",
    "        embedding_tensor = padding(embedding_tensor, max_size)\n",
    "        list_of_embeddings.append(embedding_tensor)\n",
    "    return list_of_embeddings, [label] * len(list_of_embeddings)"
   ]
  },
  {
   "cell_type": "code",
   "execution_count": 38,
   "metadata": {},
   "outputs": [],
   "source": [
    "batch_size = 200"
   ]
  },
  {
   "cell_type": "code",
   "execution_count": 39,
   "metadata": {},
   "outputs": [],
   "source": [
    "pd_non_pu, label_non_pu = get_embedding_list(EMB_PATH_NONPU, 0, 62)\n",
    "pd_pu, label_pu = get_embedding_list(EMB_PATH_PU, 1, 62)"
   ]
  },
  {
   "cell_type": "code",
   "execution_count": 40,
   "metadata": {},
   "outputs": [],
   "source": [
    "embeddings = pd_non_pu + pd_pu\n",
    "labels = label_non_pu + label_pu"
   ]
  },
  {
   "cell_type": "code",
   "execution_count": 60,
   "metadata": {},
   "outputs": [
    {
     "name": "stdout",
     "output_type": "stream",
     "text": [
      "tf.Tensor(\n",
      "[[ 4.9210332e-02  1.4223444e-02 -5.0694294e-02 ... -3.0550587e-01\n",
      "   2.3493481e-01 -1.4564994e-01]\n",
      " [ 1.5709296e-02  1.3455091e-02  3.3007156e-02 ...  7.8282535e-02\n",
      "   1.2138317e-01  1.6710907e-04]\n",
      " [ 5.5935629e-02  8.7842695e-02  1.1524474e-01 ...  4.7444843e-02\n",
      "   3.5048194e-02 -1.7099097e-01]\n",
      " ...\n",
      " [ 0.0000000e+00  0.0000000e+00  0.0000000e+00 ...  0.0000000e+00\n",
      "   0.0000000e+00  0.0000000e+00]\n",
      " [ 0.0000000e+00  0.0000000e+00  0.0000000e+00 ...  0.0000000e+00\n",
      "   0.0000000e+00  0.0000000e+00]\n",
      " [ 0.0000000e+00  0.0000000e+00  0.0000000e+00 ...  0.0000000e+00\n",
      "   0.0000000e+00  0.0000000e+00]], shape=(62, 1280), dtype=float32)\n"
     ]
    }
   ],
   "source": [
    "print(embeddings[0])"
   ]
  },
  {
   "cell_type": "code",
   "execution_count": 61,
   "metadata": {},
   "outputs": [
    {
     "name": "stdout",
     "output_type": "stream",
     "text": [
      "0\n"
     ]
    }
   ],
   "source": [
    "print(labels[0])"
   ]
  },
  {
   "cell_type": "code",
   "execution_count": 41,
   "metadata": {},
   "outputs": [],
   "source": [
    "# Split data into train and validation\n",
    "from sklearn.model_selection import train_test_split\n",
    "\n",
    "train_set, val_set, train_labels, val_labels = train_test_split(\n",
    "    embeddings, labels, test_size=0.2\n",
    ")"
   ]
  },
  {
   "cell_type": "code",
   "execution_count": 24,
   "metadata": {},
   "outputs": [],
   "source": [
    "def conv_data(data, labels):\n",
    "    return tf.data.Dataset.from_tensor_slices((data, labels))"
   ]
  },
  {
   "cell_type": "code",
   "execution_count": 25,
   "metadata": {},
   "outputs": [],
   "source": [
    "def prep_data(train, lab, batch_size):\n",
    "    tf_dataset = conv_data(train, lab)\n",
    "    tf_dataset = tf_dataset.batch(batch_size)\n",
    "    tf_dataset = tf_dataset.prefetch(tf.data.AUTOTUNE)\n",
    "    return tf_dataset"
   ]
  },
  {
   "cell_type": "code",
   "execution_count": 42,
   "metadata": {},
   "outputs": [],
   "source": [
    "tf_dataset = prep_data(train_set, train_labels, batch_size)\n",
    "tf_val_dataset = prep_data(val_set, val_labels, batch_size)"
   ]
  },
  {
   "cell_type": "markdown",
   "metadata": {},
   "source": [
    "# Tensorflow model:\n",
    "\n",
    "Protein classification\n"
   ]
  },
  {
   "cell_type": "code",
   "execution_count": 43,
   "metadata": {},
   "outputs": [],
   "source": [
    "# Compute class weights\n",
    "\n",
    "\n",
    "class_weights = compute_class_weight(\n",
    "    class_weight=\"balanced\", classes=np.unique(train_labels), y=train_labels\n",
    ")\n",
    "class_weights = dict(enumerate(class_weights))"
   ]
  },
  {
   "cell_type": "code",
   "execution_count": 115,
   "metadata": {},
   "outputs": [
    {
     "name": "stdout",
     "output_type": "stream",
     "text": [
      "Model: \"sequential_1\"\n",
      "_________________________________________________________________\n",
      " Layer (type)                Output Shape              Param #   \n",
      "=================================================================\n",
      " gru_3 (GRU)                 (None, 62, 300)           1423800   \n",
      "                                                                 \n",
      " gru_4 (GRU)                 (None, 62, 200)           301200    \n",
      "                                                                 \n",
      " gru_5 (GRU)                 (None, 124)               121272    \n",
      "                                                                 \n",
      " dense_1 (Dense)             (None, 2)                 250       \n",
      "                                                                 \n",
      "=================================================================\n",
      "Total params: 1846522 (7.04 MB)\n",
      "Trainable params: 1846522 (7.04 MB)\n",
      "Non-trainable params: 0 (0.00 Byte)\n",
      "_________________________________________________________________\n"
     ]
    }
   ],
   "source": [
    "model_tf = tf.keras.Sequential(\n",
    "    [\n",
    "        tf.keras.layers.Input(shape=(62, 1280)),\n",
    "        tf.keras.layers.GRU(300, return_sequences=True, dropout=0.3),\n",
    "        tf.keras.layers.GRU(200, return_sequences=True, dropout=0.5),\n",
    "        tf.keras.layers.GRU(124, dropout=0.1),\n",
    "        tf.keras.layers.Dense(2, activation=\"softmax\"),\n",
    "    ]\n",
    ")\n",
    "optimizer = tf.keras.optimizers.Adam(learning_rate=0.0001)\n",
    "model_tf.summary()\n",
    "model_tf.compile(\n",
    "    optimizer=optimizer,\n",
    "    loss=\"sparse_categorical_crossentropy\",\n",
    "    metrics=[\"accuracy\"],\n",
    ")"
   ]
  },
  {
   "cell_type": "code",
   "execution_count": 44,
   "metadata": {},
   "outputs": [
    {
     "name": "stdout",
     "output_type": "stream",
     "text": [
      "Epoch 1/500\n",
      "21/21 [==============================] - 31s 1s/step - loss: 0.6758 - accuracy: 0.4890 - val_loss: 0.6827 - val_accuracy: 0.5173\n",
      "Epoch 2/500\n",
      "21/21 [==============================] - 29s 1s/step - loss: 0.6590 - accuracy: 0.5349 - val_loss: 0.6830 - val_accuracy: 0.5420\n",
      "Epoch 3/500\n",
      "21/21 [==============================] - 29s 1s/step - loss: 0.6344 - accuracy: 0.5806 - val_loss: 0.6547 - val_accuracy: 0.6199\n",
      "Epoch 4/500\n",
      "21/21 [==============================] - 29s 1s/step - loss: 0.5930 - accuracy: 0.6626 - val_loss: 0.6183 - val_accuracy: 0.6930\n",
      "Epoch 5/500\n",
      "21/21 [==============================] - 29s 1s/step - loss: 0.5539 - accuracy: 0.7081 - val_loss: 0.6083 - val_accuracy: 0.6960\n",
      "Epoch 6/500\n",
      "21/21 [==============================] - 30s 1s/step - loss: 0.5292 - accuracy: 0.7157 - val_loss: 0.5657 - val_accuracy: 0.7305\n",
      "Epoch 7/500\n",
      "21/21 [==============================] - 30s 1s/step - loss: 0.5111 - accuracy: 0.7333 - val_loss: 0.5595 - val_accuracy: 0.7256\n",
      "Epoch 8/500\n",
      "21/21 [==============================] - 29s 1s/step - loss: 0.5015 - accuracy: 0.7355 - val_loss: 0.5436 - val_accuracy: 0.7463\n",
      "Epoch 9/500\n",
      "21/21 [==============================] - 29s 1s/step - loss: 0.4902 - accuracy: 0.7476 - val_loss: 0.5347 - val_accuracy: 0.7522\n",
      "Epoch 10/500\n",
      "21/21 [==============================] - 29s 1s/step - loss: 0.4766 - accuracy: 0.7602 - val_loss: 0.5311 - val_accuracy: 0.7493\n",
      "Epoch 11/500\n",
      "21/21 [==============================] - 29s 1s/step - loss: 0.4700 - accuracy: 0.7599 - val_loss: 0.5261 - val_accuracy: 0.7651\n",
      "Epoch 12/500\n",
      "21/21 [==============================] - 27s 1s/step - loss: 0.4598 - accuracy: 0.7664 - val_loss: 0.5238 - val_accuracy: 0.7601\n",
      "Epoch 13/500\n",
      "21/21 [==============================] - 34s 2s/step - loss: 0.4510 - accuracy: 0.7703 - val_loss: 0.5216 - val_accuracy: 0.7611\n",
      "Epoch 14/500\n",
      "21/21 [==============================] - 34s 2s/step - loss: 0.4422 - accuracy: 0.7799 - val_loss: 0.5236 - val_accuracy: 0.7680\n",
      "Epoch 15/500\n",
      "21/21 [==============================] - 32s 2s/step - loss: 0.4298 - accuracy: 0.7901 - val_loss: 0.5253 - val_accuracy: 0.7651\n",
      "Epoch 16/500\n",
      "21/21 [==============================] - 30s 1s/step - loss: 0.4287 - accuracy: 0.7948 - val_loss: 0.5282 - val_accuracy: 0.7670\n"
     ]
    },
    {
     "data": {
      "text/plain": [
       "<keras.src.callbacks.History at 0x14c116e70d0>"
      ]
     },
     "execution_count": 44,
     "metadata": {},
     "output_type": "execute_result"
    }
   ],
   "source": [
    "callback = tf.keras.callbacks.EarlyStopping(monitor=\"val_loss\", patience=3)\n",
    "\n",
    "model_tf.fit(\n",
    "    tf_dataset,\n",
    "    epochs=500,\n",
    "    validation_data=tf_val_dataset,\n",
    "    callbacks=callback,\n",
    "    class_weight=class_weights,\n",
    "    batch_size=batch_size,\n",
    ")"
   ]
  },
  {
   "cell_type": "code",
   "execution_count": 30,
   "metadata": {},
   "outputs": [],
   "source": [
    "def plot_history(history, metric):\n",
    "    plt.plot(history.history[f\"{metric}\"])\n",
    "    plt.plot(history.history[f\"val_{metric}\"])\n",
    "    plt.title(f\"model {metric}\")\n",
    "    plt.legend([\"train\", \"test\"], loc=\"upper left\")\n",
    "    plt.ylabel(f\"{metric}\")\n",
    "    plt.xlabel(\"epoch\")\n",
    "    plt.show()"
   ]
  },
  {
   "cell_type": "code",
   "execution_count": 45,
   "metadata": {},
   "outputs": [
    {
     "data": {
      "image/png": "[encoded data removed]",
      "text/plain": [
       "<Figure size 640x480 with 1 Axes>"
      ]
     },
     "metadata": {},
     "output_type": "display_data"
    },
    {
     "data": {
      "image/png": "[encoded data removed]",
      "text/plain": [
       "<Figure size 640x480 with 1 Axes>"
      ]
     },
     "metadata": {},
     "output_type": "display_data"
    }
   ],
   "source": [
    "plot_history(model_tf.history, \"accuracy\")\n",
    "plot_history(model_tf.history, \"loss\")"
   ]
  },
  {
   "cell_type": "code",
   "execution_count": 54,
   "metadata": {},
   "outputs": [
    {
     "name": "stdout",
     "output_type": "stream",
     "text": [
      "6/6 [==============================] - 2s 277ms/step\n"
     ]
    },
    {
     "data": {
      "image/png": "[encoded data removed]",
      "text/plain": [
       "<Figure size 640x480 with 2 Axes>"
      ]
     },
     "metadata": {},
     "output_type": "display_data"
    }
   ],
   "source": [
    "ConfusionMatrixDisplay.from_predictions(\n",
    "    val_labels,\n",
    "    model_tf.predict(tf_val_dataset).argmax(axis=1),\n",
    "    cmap=\"Blues\",\n",
    "    normalize=\"true\",\n",
    "    display_labels=[\"Non-PU\", \"PU\"],\n",
    ")\n",
    "plt.show()"
   ]
  },
  {
   "cell_type": "code",
   "execution_count": 55,
   "metadata": {},
   "outputs": [
    {
     "name": "stdout",
     "output_type": "stream",
     "text": [
      "6/6 [==============================] - 2s 246ms/step\n",
      "Balanced accuracy: 0.77\n"
     ]
    }
   ],
   "source": [
    "# Compute balanced accuracy\n",
    "\n",
    "print(\n",
    "    \"Balanced accuracy: %0.2f\"\n",
    "    % balanced_accuracy_score(\n",
    "        val_labels, model_tf.predict(tf_val_dataset).argmax(axis=1)\n",
    "    ),\n",
    ")"
   ]
  },
  {
   "cell_type": "code",
   "execution_count": 118,
   "metadata": {},
   "outputs": [],
   "source": [
    "def is_pu(PATH, filename):\n",
    "    embedding_dict = torch.load(os.path.join(PATH, filename))[\"representations\"][33][0]\n",
    "\n",
    "    embedding_tensor = tf.convert_to_tensor(embedding_dict)\n",
    "    embedding_tensor = padding(embedding_tensor, 62)\n",
    "    res = model_tf.predict(embedding_tensor[None,]).argmax(axis=1)[0]\n",
    "    print(\"PU\\npred = \", res) if res == 1 else print(\"Non-PU\\npred = \", res)"
   ]
  },
  {
   "cell_type": "code",
   "execution_count": 119,
   "metadata": {},
   "outputs": [
    {
     "name": "stdout",
     "output_type": "stream",
     "text": [
      "1/1 [==============================] - 1s 1s/step\n",
      "PU\n",
      "pred =  1\n"
     ]
    }
   ],
   "source": [
    "is_pu(EMB_PATH_PU, \"1A0CA_12_310_329.pt\")"
   ]
  },
  {
   "cell_type": "code",
   "execution_count": 120,
   "metadata": {},
   "outputs": [
    {
     "name": "stdout",
     "output_type": "stream",
     "text": [
      "1/1 [==============================] - 0s 35ms/step\n",
      "Non-PU\n",
      "pred =  0\n"
     ]
    }
   ],
   "source": [
    "is_pu(EMB_PATH_NONPU, \"1A8DA_10_248_263.pt\")"
   ]
  },
  {
   "cell_type": "markdown",
   "metadata": {},
   "source": [
    "UNKNOWN\n"
   ]
  },
  {
   "cell_type": "code",
   "execution_count": 117,
   "metadata": {},
   "outputs": [],
   "source": [
    "EMB_UNKOWN = \"./embeddings/unknown\""
   ]
  },
  {
   "cell_type": "code",
   "execution_count": null,
   "metadata": {},
   "outputs": [],
   "source": [
    "unknown = seq_data.loc[(seq_data[\"Is_pu\"] == 2)][[\"Sequence\", \"file\"]]"
   ]
  },
  {
   "cell_type": "code",
   "execution_count": null,
   "metadata": {},
   "outputs": [],
   "source": [
    "embedding_preparation(unknown, EMB_UNKOWN)"
   ]
  },
  {
   "cell_type": "code",
   "execution_count": 116,
   "metadata": {},
   "outputs": [
    {
     "ename": "NameError",
     "evalue": "name 'EMB_UNKOWN' is not defined",
     "output_type": "error",
     "traceback": [
      "\u001b[1;31m---------------------------------------------------------------------------\u001b[0m",
      "\u001b[1;31mNameError\u001b[0m                                 Traceback (most recent call last)",
      "Cell \u001b[1;32mIn[116], line 1\u001b[0m\n\u001b[1;32m----> 1\u001b[0m pred_single(\u001b[43mEMB_UNKOWN\u001b[49m, \u001b[38;5;124m\"\u001b[39m\u001b[38;5;124m1A0CA_1_1_385.pt\u001b[39m\u001b[38;5;124m\"\u001b[39m)\n",
      "\u001b[1;31mNameError\u001b[0m: name 'EMB_UNKOWN' is not defined"
     ]
    }
   ],
   "source": [
    "pred_single(EMB_UNKOWN, \"1A0CA_1_1_385.pt\")"
   ]
  },
  {
   "cell_type": "code",
   "execution_count": 42,
   "metadata": {},
   "outputs": [],
   "source": [
    "tensor_unknown = tf.convert_to_tensor(\n",
    "    torch.load(EMB_UNKOWN + \"/1A0CA_1_1_385.pt\")[\"representations\"][33][0]\n",
    ")"
   ]
  },
  {
   "cell_type": "code",
   "execution_count": 43,
   "metadata": {},
   "outputs": [],
   "source": [
    "set_unknown = tf.data.Dataset.from_tensor_slices(\n",
    "    (tensor_unknown, [2] * len(tensor_unknown))\n",
    ")\n",
    "set_unknown = set_unknown.batch(128)\n",
    "set_unknown = set_unknown.prefetch(tf.data.AUTOTUNE)"
   ]
  },
  {
   "cell_type": "code",
   "execution_count": 46,
   "metadata": {},
   "outputs": [
    {
     "data": {
      "text/plain": [
       "4"
      ]
     },
     "execution_count": 46,
     "metadata": {},
     "output_type": "execute_result"
    }
   ],
   "source": [
    "len(set_unknown)"
   ]
  },
  {
   "cell_type": "markdown",
   "metadata": {},
   "source": [
    "famille PU MODEL\n"
   ]
  },
  {
   "cell_type": "code",
   "execution_count": 69,
   "metadata": {},
   "outputs": [],
   "source": [
    "columns = [\n",
    "    \"CLASS\",\n",
    "    \"ARCHITECTURE\",\n",
    "    \"TOPOLOGY\",\n",
    "    \"NANOFOLD\",\n",
    "    \"PU_FAMILY_MEMBERS_CATEGORY\",\n",
    "    \"PROTO_FOLD_PROTOTYPE\",\n",
    "]"
   ]
  },
  {
   "cell_type": "code",
   "execution_count": 70,
   "metadata": {},
   "outputs": [],
   "source": [
    "data_category = Pu_families[columns]"
   ]
  },
  {
   "cell_type": "code",
   "execution_count": 71,
   "metadata": {},
   "outputs": [
    {
     "data": {
      "text/html": [
       "<div>\n",
       "<style scoped>\n",
       "    .dataframe tbody tr th:only-of-type {\n",
       "        vertical-align: middle;\n",
       "    }\n",
       "\n",
       "    .dataframe tbody tr th {\n",
       "        vertical-align: top;\n",
       "    }\n",
       "\n",
       "    .dataframe thead th {\n",
       "        text-align: right;\n",
       "    }\n",
       "</style>\n",
       "<table border=\"1\" class=\"dataframe\">\n",
       "  <thead>\n",
       "    <tr style=\"text-align: right;\">\n",
       "      <th></th>\n",
       "      <th>CLASS</th>\n",
       "      <th>ARCHITECTURE</th>\n",
       "      <th>TOPOLOGY</th>\n",
       "      <th>NANOFOLD</th>\n",
       "      <th>PU_FAMILY_MEMBERS_CATEGORY</th>\n",
       "      <th>PROTO_FOLD_PROTOTYPE</th>\n",
       "    </tr>\n",
       "  </thead>\n",
       "  <tbody>\n",
       "    <tr>\n",
       "      <th>0</th>\n",
       "      <td>Alpha-beta</td>\n",
       "      <td>bab</td>\n",
       "      <td>bUaUb</td>\n",
       "      <td>35.g306</td>\n",
       "      <td>[1U14A_2_1_37, 2WW8A_12_487_525, 2DZXA_4_82_11...</td>\n",
       "      <td>1MJNA_2_127_163</td>\n",
       "    </tr>\n",
       "    <tr>\n",
       "      <th>1</th>\n",
       "      <td>All-alpha</td>\n",
       "      <td>a</td>\n",
       "      <td>a</td>\n",
       "      <td>30.g147</td>\n",
       "      <td>[2EO5A_10_78_103, 3QVQA_7_118_144, 3V7NA_14_35...</td>\n",
       "      <td>2EO5A_10_78_103</td>\n",
       "    </tr>\n",
       "    <tr>\n",
       "      <th>2</th>\n",
       "      <td>All-alpha</td>\n",
       "      <td>a</td>\n",
       "      <td>a</td>\n",
       "      <td>20.g594</td>\n",
       "      <td>[3JSZA_14_357_376, 3A24A_10_525_542, 1YBTA_1_1...</td>\n",
       "      <td>1YBTA_1_16_34</td>\n",
       "    </tr>\n",
       "    <tr>\n",
       "      <th>3</th>\n",
       "      <td>Alpha-beta</td>\n",
       "      <td>aba</td>\n",
       "      <td>aUbLa</td>\n",
       "      <td>35.g162</td>\n",
       "      <td>[3K7XA_10_267_294, 4G10A_4_105_133, 3C3RA_10_2...</td>\n",
       "      <td>1YISA_10_258_288</td>\n",
       "    </tr>\n",
       "    <tr>\n",
       "      <th>4</th>\n",
       "      <td>Alpha-beta</td>\n",
       "      <td>baba</td>\n",
       "      <td>bUaUbLa</td>\n",
       "      <td>45.g94</td>\n",
       "      <td>[2HHGA_2_86_132, 3SNKA_1_1_48, 2UUUA_6_300_347...</td>\n",
       "      <td>3ICSA_11_510_555</td>\n",
       "    </tr>\n",
       "    <tr>\n",
       "      <th>...</th>\n",
       "      <td>...</td>\n",
       "      <td>...</td>\n",
       "      <td>...</td>\n",
       "      <td>...</td>\n",
       "      <td>...</td>\n",
       "      <td>...</td>\n",
       "    </tr>\n",
       "    <tr>\n",
       "      <th>2856</th>\n",
       "      <td>All-alpha</td>\n",
       "      <td>aa</td>\n",
       "      <td>aLa</td>\n",
       "      <td>30.g286</td>\n",
       "      <td>[3MVPA_7_17_45, 1SZHA_2_121_147, 1Q15A_10_463_...</td>\n",
       "      <td>1Q15A_10_463_491</td>\n",
       "    </tr>\n",
       "    <tr>\n",
       "      <th>2857</th>\n",
       "      <td>Alpha-beta</td>\n",
       "      <td>aba</td>\n",
       "      <td>aLbLa</td>\n",
       "      <td>30.g11</td>\n",
       "      <td>[3LLKA_5_136_165, 3FRKA_10_339_365, 3TTGA_10_8...</td>\n",
       "      <td>1OKSA_1_1_30</td>\n",
       "    </tr>\n",
       "    <tr>\n",
       "      <th>2858</th>\n",
       "      <td>Alpha-beta</td>\n",
       "      <td>bbba</td>\n",
       "      <td>bUbUbUa</td>\n",
       "      <td>55.g137</td>\n",
       "      <td>[3C5NA_1_177_231, 2ZW5A_4_54_108, 3F8KA_2_38_9...</td>\n",
       "      <td>3F8KA_2_38_92</td>\n",
       "    </tr>\n",
       "    <tr>\n",
       "      <th>2859</th>\n",
       "      <td>All-alpha</td>\n",
       "      <td>aa</td>\n",
       "      <td>aUa</td>\n",
       "      <td>35.g38</td>\n",
       "      <td>[2FTZA_5_1_37, 2FNOA_2_91_132, 1VBIA_4_266_305...</td>\n",
       "      <td>1RRMA_7_184_219</td>\n",
       "    </tr>\n",
       "    <tr>\n",
       "      <th>2860</th>\n",
       "      <td>All-beta</td>\n",
       "      <td>bb</td>\n",
       "      <td>bUb</td>\n",
       "      <td>30.g200</td>\n",
       "      <td>[3ROBA_4_103_131, 3VSSA_10_196_225, 3F3FA_10_1...</td>\n",
       "      <td>2YFRA_11_196_224</td>\n",
       "    </tr>\n",
       "  </tbody>\n",
       "</table>\n",
       "<p>2861 rows × 6 columns</p>\n",
       "</div>"
      ],
      "text/plain": [
       "           CLASS ARCHITECTURE TOPOLOGY NANOFOLD  \\\n",
       "0     Alpha-beta          bab    bUaUb  35.g306   \n",
       "1      All-alpha            a        a  30.g147   \n",
       "2      All-alpha            a        a  20.g594   \n",
       "3     Alpha-beta          aba    aUbLa  35.g162   \n",
       "4     Alpha-beta         baba  bUaUbLa   45.g94   \n",
       "...          ...          ...      ...      ...   \n",
       "2856   All-alpha           aa      aLa  30.g286   \n",
       "2857  Alpha-beta          aba    aLbLa   30.g11   \n",
       "2858  Alpha-beta         bbba  bUbUbUa  55.g137   \n",
       "2859   All-alpha           aa      aUa   35.g38   \n",
       "2860    All-beta           bb      bUb  30.g200   \n",
       "\n",
       "                             PU_FAMILY_MEMBERS_CATEGORY PROTO_FOLD_PROTOTYPE  \n",
       "0     [1U14A_2_1_37, 2WW8A_12_487_525, 2DZXA_4_82_11...      1MJNA_2_127_163  \n",
       "1     [2EO5A_10_78_103, 3QVQA_7_118_144, 3V7NA_14_35...      2EO5A_10_78_103  \n",
       "2     [3JSZA_14_357_376, 3A24A_10_525_542, 1YBTA_1_1...        1YBTA_1_16_34  \n",
       "3     [3K7XA_10_267_294, 4G10A_4_105_133, 3C3RA_10_2...     1YISA_10_258_288  \n",
       "4     [2HHGA_2_86_132, 3SNKA_1_1_48, 2UUUA_6_300_347...     3ICSA_11_510_555  \n",
       "...                                                 ...                  ...  \n",
       "2856  [3MVPA_7_17_45, 1SZHA_2_121_147, 1Q15A_10_463_...     1Q15A_10_463_491  \n",
       "2857  [3LLKA_5_136_165, 3FRKA_10_339_365, 3TTGA_10_8...         1OKSA_1_1_30  \n",
       "2858  [3C5NA_1_177_231, 2ZW5A_4_54_108, 3F8KA_2_38_9...        3F8KA_2_38_92  \n",
       "2859  [2FTZA_5_1_37, 2FNOA_2_91_132, 1VBIA_4_266_305...      1RRMA_7_184_219  \n",
       "2860  [3ROBA_4_103_131, 3VSSA_10_196_225, 3F3FA_10_1...     2YFRA_11_196_224  \n",
       "\n",
       "[2861 rows x 6 columns]"
      ]
     },
     "execution_count": 71,
     "metadata": {},
     "output_type": "execute_result"
    }
   ],
   "source": [
    "data_category"
   ]
  },
  {
   "cell_type": "code",
   "execution_count": 76,
   "metadata": {},
   "outputs": [
    {
     "data": {
      "text/plain": [
       "CLASS                         0\n",
       "ARCHITECTURE                  0\n",
       "TOPOLOGY                      0\n",
       "NANOFOLD                      0\n",
       "PU_FAMILY_MEMBERS_CATEGORY    0\n",
       "PROTO_FOLD_PROTOTYPE          0\n",
       "dtype: int64"
      ]
     },
     "execution_count": 76,
     "metadata": {},
     "output_type": "execute_result"
    }
   ],
   "source": [
    "data_category.isnull().sum()"
   ]
  },
  {
   "cell_type": "code",
   "execution_count": 109,
   "metadata": {},
   "outputs": [],
   "source": [
    "Xtrain, xtest, Ytrain, ytest = train_test_split(\n",
    "    data_category.iloc[:, :-1], data_category[\"PROTO_FOLD_PROTOTYPE\"], random_state=42\n",
    ")"
   ]
  },
  {
   "cell_type": "code",
   "execution_count": 110,
   "metadata": {},
   "outputs": [
    {
     "name": "stdout",
     "output_type": "stream",
     "text": [
      "Model: \"sequential_8\"\n",
      "_________________________________________________________________\n",
      " Layer (type)                Output Shape              Param #   \n",
      "=================================================================\n",
      " dense_32 (Dense)            (None, 128)               768       \n",
      "                                                                 \n",
      " dense_33 (Dense)            (None, 64)                8256      \n",
      "                                                                 \n",
      " dense_34 (Dense)            (None, 32)                2080      \n",
      "                                                                 \n",
      " dense_35 (Dense)            (None, 16)                528       \n",
      "                                                                 \n",
      " dense_36 (Dense)            (None, 8)                 136       \n",
      "                                                                 \n",
      " dense_37 (Dense)            (None, 4)                 36        \n",
      "                                                                 \n",
      " dense_38 (Dense)            (None, 2)                 10        \n",
      "                                                                 \n",
      "=================================================================\n",
      "Total params: 11814 (46.15 KB)\n",
      "Trainable params: 11814 (46.15 KB)\n",
      "Non-trainable params: 0 (0.00 Byte)\n",
      "_________________________________________________________________\n"
     ]
    },
    {
     "name": "stderr",
     "output_type": "stream",
     "text": [
      "WARNING:absl:At this time, the v2.11+ optimizer `tf.keras.optimizers.Adam` runs slowly on M1/M2 Macs, please use the legacy Keras optimizer instead, located at `tf.keras.optimizers.legacy.Adam`.\n"
     ]
    }
   ],
   "source": [
    "model_famille = tf.keras.Sequential(\n",
    "    [\n",
    "        tf.keras.layers.Dense(128, activation=\"relu\", input_shape=(Xtrain.shape[1],)),\n",
    "        tf.keras.layers.Dense(64, activation=\"relu\"),\n",
    "        tf.keras.layers.Dense(32, activation=\"relu\"),\n",
    "        tf.keras.layers.Dense(16, activation=\"relu\"),\n",
    "        tf.keras.layers.Dense(8, activation=\"relu\"),\n",
    "        tf.keras.layers.Dense(4, activation=\"relu\"),\n",
    "        tf.keras.layers.Dense(2, activation=\"softmax\"),\n",
    "    ]\n",
    ")\n",
    "\n",
    "\n",
    "model_famille.summary()\n",
    "\n",
    "\n",
    "model_famille.compile(\n",
    "    optimizer=tf.keras.optimizers.Adam(learning_rate=0.001),\n",
    "    loss=tf.keras.losses.CategoricalCrossentropy(),\n",
    "    metrics=[\"accuracy\"],\n",
    ")"
   ]
  },
  {
   "cell_type": "code",
   "execution_count": 111,
   "metadata": {},
   "outputs": [
    {
     "ename": "ValueError",
     "evalue": "Failed to convert a NumPy array to a Tensor (Unsupported object type list).",
     "output_type": "error",
     "traceback": [
      "\u001b[0;31m---------------------------------------------------------------------------\u001b[0m",
      "\u001b[0;31mValueError\u001b[0m                                Traceback (most recent call last)",
      "\u001b[1;32m/Users/mathisreineat-40/Documents/GitHub/PU_ML/main.ipynb Cellule 57\u001b[0m line \u001b[0;36m1\n\u001b[0;32m----> <a href='vscode-notebook-cell:/Users/mathisreineat-40/Documents/GitHub/PU_ML/main.ipynb#Y111sZmlsZQ%3D%3D?line=0'>1</a>\u001b[0m model_famille\u001b[39m.\u001b[39;49mfit(\n\u001b[1;32m      <a href='vscode-notebook-cell:/Users/mathisreineat-40/Documents/GitHub/PU_ML/main.ipynb#Y111sZmlsZQ%3D%3D?line=1'>2</a>\u001b[0m     Xtrain,\n\u001b[1;32m      <a href='vscode-notebook-cell:/Users/mathisreineat-40/Documents/GitHub/PU_ML/main.ipynb#Y111sZmlsZQ%3D%3D?line=2'>3</a>\u001b[0m     Ytrain,\n\u001b[1;32m      <a href='vscode-notebook-cell:/Users/mathisreineat-40/Documents/GitHub/PU_ML/main.ipynb#Y111sZmlsZQ%3D%3D?line=3'>4</a>\u001b[0m     validation_data\u001b[39m=\u001b[39;49m(xtest,ytest),\n\u001b[1;32m      <a href='vscode-notebook-cell:/Users/mathisreineat-40/Documents/GitHub/PU_ML/main.ipynb#Y111sZmlsZQ%3D%3D?line=4'>5</a>\u001b[0m     epochs\u001b[39m=\u001b[39;49m\u001b[39m100\u001b[39;49m,\n\u001b[1;32m      <a href='vscode-notebook-cell:/Users/mathisreineat-40/Documents/GitHub/PU_ML/main.ipynb#Y111sZmlsZQ%3D%3D?line=5'>6</a>\u001b[0m     batch_size\u001b[39m=\u001b[39;49m\u001b[39m32\u001b[39;49m\n\u001b[1;32m      <a href='vscode-notebook-cell:/Users/mathisreineat-40/Documents/GitHub/PU_ML/main.ipynb#Y111sZmlsZQ%3D%3D?line=6'>7</a>\u001b[0m     )\n",
      "File \u001b[0;32m/Library/Frameworks/Python.framework/Versions/3.11/lib/python3.11/site-packages/keras/src/utils/traceback_utils.py:70\u001b[0m, in \u001b[0;36mfilter_traceback.<locals>.error_handler\u001b[0;34m(*args, **kwargs)\u001b[0m\n\u001b[1;32m     67\u001b[0m     filtered_tb \u001b[39m=\u001b[39m _process_traceback_frames(e\u001b[39m.\u001b[39m__traceback__)\n\u001b[1;32m     68\u001b[0m     \u001b[39m# To get the full stack trace, call:\u001b[39;00m\n\u001b[1;32m     69\u001b[0m     \u001b[39m# `tf.debugging.disable_traceback_filtering()`\u001b[39;00m\n\u001b[0;32m---> 70\u001b[0m     \u001b[39mraise\u001b[39;00m e\u001b[39m.\u001b[39mwith_traceback(filtered_tb) \u001b[39mfrom\u001b[39;00m \u001b[39mNone\u001b[39;00m\n\u001b[1;32m     71\u001b[0m \u001b[39mfinally\u001b[39;00m:\n\u001b[1;32m     72\u001b[0m     \u001b[39mdel\u001b[39;00m filtered_tb\n",
      "File \u001b[0;32m/Library/Frameworks/Python.framework/Versions/3.11/lib/python3.11/site-packages/tensorflow/python/framework/constant_op.py:103\u001b[0m, in \u001b[0;36mconvert_to_eager_tensor\u001b[0;34m(value, ctx, dtype)\u001b[0m\n\u001b[1;32m    101\u001b[0m     dtype \u001b[39m=\u001b[39m dtypes\u001b[39m.\u001b[39mas_dtype(dtype)\u001b[39m.\u001b[39mas_datatype_enum\n\u001b[1;32m    102\u001b[0m ctx\u001b[39m.\u001b[39mensure_initialized()\n\u001b[0;32m--> 103\u001b[0m \u001b[39mreturn\u001b[39;00m ops\u001b[39m.\u001b[39;49mEagerTensor(value, ctx\u001b[39m.\u001b[39;49mdevice_name, dtype)\n",
      "\u001b[0;31mValueError\u001b[0m: Failed to convert a NumPy array to a Tensor (Unsupported object type list)."
     ]
    }
   ],
   "source": [
    "model_famille.fit(\n",
    "    Xtrain, Ytrain, validation_data=(xtest, ytest), epochs=100, batch_size=32\n",
    ")"
   ]
  },
  {
   "cell_type": "code",
   "execution_count": 112,
   "metadata": {},
   "outputs": [
    {
     "data": {
      "text/html": [
       "<div>\n",
       "<style scoped>\n",
       "    .dataframe tbody tr th:only-of-type {\n",
       "        vertical-align: middle;\n",
       "    }\n",
       "\n",
       "    .dataframe tbody tr th {\n",
       "        vertical-align: top;\n",
       "    }\n",
       "\n",
       "    .dataframe thead th {\n",
       "        text-align: right;\n",
       "    }\n",
       "</style>\n",
       "<table border=\"1\" class=\"dataframe\">\n",
       "  <thead>\n",
       "    <tr style=\"text-align: right;\">\n",
       "      <th></th>\n",
       "      <th>CLASS</th>\n",
       "      <th>ARCHITECTURE</th>\n",
       "      <th>TOPOLOGY</th>\n",
       "      <th>NANOFOLD</th>\n",
       "      <th>PU_FAMILY_MEMBERS_CATEGORY</th>\n",
       "    </tr>\n",
       "  </thead>\n",
       "  <tbody>\n",
       "    <tr>\n",
       "      <th>2397</th>\n",
       "      <td>Alpha-beta</td>\n",
       "      <td>ba</td>\n",
       "      <td>bUa</td>\n",
       "      <td>30.g258</td>\n",
       "      <td>[3P2HA_3_92_126, 2QIBA_5_60_92, 3K8TA_10_351_3...</td>\n",
       "    </tr>\n",
       "    <tr>\n",
       "      <th>1405</th>\n",
       "      <td>Alpha-beta</td>\n",
       "      <td>aba</td>\n",
       "      <td>aLbUa</td>\n",
       "      <td>40.g35</td>\n",
       "      <td>[2WK1A_4_156_195, 1OMOA_5_109_150, 1Y8QB_13_91...</td>\n",
       "    </tr>\n",
       "    <tr>\n",
       "      <th>1801</th>\n",
       "      <td>Alpha-beta</td>\n",
       "      <td>abbb</td>\n",
       "      <td>aUbUbUb</td>\n",
       "      <td>45.g124</td>\n",
       "      <td>[3P16A_3_327_375, 3C0UA_1_131_177, 3A1JC_3_76_...</td>\n",
       "    </tr>\n",
       "    <tr>\n",
       "      <th>166</th>\n",
       "      <td>All-alpha</td>\n",
       "      <td>aa</td>\n",
       "      <td>aUa</td>\n",
       "      <td>50.g182</td>\n",
       "      <td>[2R7HA_2_1_46, 3ODNA_10_46_91, 4GYTA_3_39_84, ...</td>\n",
       "    </tr>\n",
       "    <tr>\n",
       "      <th>59</th>\n",
       "      <td>All-alpha</td>\n",
       "      <td>aa</td>\n",
       "      <td>aUa</td>\n",
       "      <td>40.g15</td>\n",
       "      <td>[2XSEA_2_89_133, 3I28A_10_32_78, 3C8TA_10_340_...</td>\n",
       "    </tr>\n",
       "    <tr>\n",
       "      <th>...</th>\n",
       "      <td>...</td>\n",
       "      <td>...</td>\n",
       "      <td>...</td>\n",
       "      <td>...</td>\n",
       "      <td>...</td>\n",
       "    </tr>\n",
       "    <tr>\n",
       "      <th>1638</th>\n",
       "      <td>All-alpha</td>\n",
       "      <td>a</td>\n",
       "      <td>a</td>\n",
       "      <td>25.g389</td>\n",
       "      <td>[4ESWA_10_227_253, 3MJOA_10_113_137, 3F2BA_10_...</td>\n",
       "    </tr>\n",
       "    <tr>\n",
       "      <th>1095</th>\n",
       "      <td>All-alpha</td>\n",
       "      <td>aa</td>\n",
       "      <td>aUa</td>\n",
       "      <td>20.g566</td>\n",
       "      <td>[2W53A_3_88_110, 3AJMA_6_103_126, 3ELNA_5_1_23...</td>\n",
       "    </tr>\n",
       "    <tr>\n",
       "      <th>1130</th>\n",
       "      <td>All-alpha</td>\n",
       "      <td>a</td>\n",
       "      <td>a</td>\n",
       "      <td>25.g323</td>\n",
       "      <td>[1KHDA_10_81_104, 2GF9A_3_151_176, 1YDYA_10_14...</td>\n",
       "    </tr>\n",
       "    <tr>\n",
       "      <th>1294</th>\n",
       "      <td>Alpha-beta</td>\n",
       "      <td>ba</td>\n",
       "      <td>bUa</td>\n",
       "      <td>30.g175</td>\n",
       "      <td>[3GG9A_11_240_273, 2QTWB_10_115_146, 2EKLA_10_...</td>\n",
       "    </tr>\n",
       "    <tr>\n",
       "      <th>860</th>\n",
       "      <td>Alpha-beta</td>\n",
       "      <td>abb</td>\n",
       "      <td>aLbUb</td>\n",
       "      <td>35.g333</td>\n",
       "      <td>[2Q0ZX_10_256_290, 2OMZB_1_69_104, 3UBFA_4_261...</td>\n",
       "    </tr>\n",
       "  </tbody>\n",
       "</table>\n",
       "<p>2145 rows × 5 columns</p>\n",
       "</div>"
      ],
      "text/plain": [
       "           CLASS ARCHITECTURE TOPOLOGY NANOFOLD  \\\n",
       "2397  Alpha-beta           ba      bUa  30.g258   \n",
       "1405  Alpha-beta          aba    aLbUa   40.g35   \n",
       "1801  Alpha-beta         abbb  aUbUbUb  45.g124   \n",
       "166    All-alpha           aa      aUa  50.g182   \n",
       "59     All-alpha           aa      aUa   40.g15   \n",
       "...          ...          ...      ...      ...   \n",
       "1638   All-alpha            a        a  25.g389   \n",
       "1095   All-alpha           aa      aUa  20.g566   \n",
       "1130   All-alpha            a        a  25.g323   \n",
       "1294  Alpha-beta           ba      bUa  30.g175   \n",
       "860   Alpha-beta          abb    aLbUb  35.g333   \n",
       "\n",
       "                             PU_FAMILY_MEMBERS_CATEGORY  \n",
       "2397  [3P2HA_3_92_126, 2QIBA_5_60_92, 3K8TA_10_351_3...  \n",
       "1405  [2WK1A_4_156_195, 1OMOA_5_109_150, 1Y8QB_13_91...  \n",
       "1801  [3P16A_3_327_375, 3C0UA_1_131_177, 3A1JC_3_76_...  \n",
       "166   [2R7HA_2_1_46, 3ODNA_10_46_91, 4GYTA_3_39_84, ...  \n",
       "59    [2XSEA_2_89_133, 3I28A_10_32_78, 3C8TA_10_340_...  \n",
       "...                                                 ...  \n",
       "1638  [4ESWA_10_227_253, 3MJOA_10_113_137, 3F2BA_10_...  \n",
       "1095  [2W53A_3_88_110, 3AJMA_6_103_126, 3ELNA_5_1_23...  \n",
       "1130  [1KHDA_10_81_104, 2GF9A_3_151_176, 1YDYA_10_14...  \n",
       "1294  [3GG9A_11_240_273, 2QTWB_10_115_146, 2EKLA_10_...  \n",
       "860   [2Q0ZX_10_256_290, 2OMZB_1_69_104, 3UBFA_4_261...  \n",
       "\n",
       "[2145 rows x 5 columns]"
      ]
     },
     "execution_count": 112,
     "metadata": {},
     "output_type": "execute_result"
    }
   ],
   "source": [
    "# pritin unique values in list contained in PU_family_members_category\n",
    "dico = {}\n",
    "for elment in data_category[\"PU_FAMILY_MEMBERS_CATEGORY\"]:\n",
    "    for pu_elemnt in elment:\n",
    "        if pu_elemnt not in PU_FAMILY_MEMBERS_CATEGORY:\n",
    "            dico[pu_elemnt] = 1"
   ]
  },
  {
   "cell_type": "code",
   "execution_count": null,
   "metadata": {},
   "outputs": [],
   "source": []
  }
 ],
 "metadata": {
  "kernelspec": {
   "display_name": "Python 3",
   "language": "python",
   "name": "python3"
  },
  "language_info": {
   "codemirror_mode": {
    "name": "ipython",
    "version": 3
   },
   "file_extension": ".py",
   "mimetype": "text/x-python",
   "name": "python",
   "nbconvert_exporter": "python",
   "pygments_lexer": "ipython3",
   "version": "3.11.7"
  }
 },
 "nbformat": 4,
 "nbformat_minor": 2
}
