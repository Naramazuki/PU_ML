{
 "cells": [
  {
   "cell_type": "code",
   "execution_count": 9,
   "metadata": {},
   "outputs": [],
   "source": [
    "import torch\n",
    "import pandas as pd\n",
    "import esm\n",
    "import matplotlib.pyplot as plt\n",
    "import os\n",
    "import tensorflow as tf\n",
    "from sklearn.metrics import ConfusionMatrixDisplay\n",
    "import seaborn as sns\n",
    "from sklearn.utils.class_weight import compute_class_weight\n",
    "from sklearn.metrics import balanced_accuracy_score\n",
    "from Bio import SeqIO\n",
    "import numpy as np"
   ]
  },
  {
   "cell_type": "markdown",
   "metadata": {},
   "source": [
    "# Data prep\n"
   ]
  },
  {
   "cell_type": "markdown",
   "metadata": {},
   "source": [
    "Open Non Core Pu file\n"
   ]
  },
  {
   "cell_type": "code",
   "execution_count": 6,
   "metadata": {},
   "outputs": [],
   "source": [
    "with open(\"SET_PUs_NON_CORES (1).txt\") as f:\n",
    "    No_Pu = f.readlines()\n",
    "\n",
    "for i in range(len(No_Pu)):\n",
    "    No_Pu[i] = No_Pu[i].strip()"
   ]
  },
  {
   "cell_type": "markdown",
   "metadata": {},
   "source": [
    "Open Fasta data\n"
   ]
  },
  {
   "cell_type": "code",
   "execution_count": 10,
   "metadata": {},
   "outputs": [],
   "source": [
    "fasta_file = \"DB_PU_NONPU_SEQ.fasta\"\n",
    "fasta_sequence = []\n",
    "with open(fasta_file, \"r\") as f:\n",
    "    for record in SeqIO.parse(f, \"fasta\"):\n",
    "        fasta_sequence.append(record)"
   ]
  },
  {
   "cell_type": "markdown",
   "metadata": {},
   "source": [
    "Open Pu File\n"
   ]
  },
  {
   "cell_type": "code",
   "execution_count": 11,
   "metadata": {},
   "outputs": [],
   "source": [
    "Pu = pd.read_table(\n",
    "    \"LISTS_CATFS_PU_PROTOTYPE_with_fused_famillies (1)\", sep=\"\\t\", header=None\n",
    ")"
   ]
  },
  {
   "cell_type": "code",
   "execution_count": 12,
   "metadata": {},
   "outputs": [],
   "source": [
    "data = []\n",
    "for line in Pu[0]:\n",
    "    liste = []\n",
    "\n",
    "    line = line.split(\" \")\n",
    "    for element in line:\n",
    "        if element != \"\":\n",
    "            liste.append(element)\n",
    "    data.append(liste)"
   ]
  },
  {
   "cell_type": "code",
   "execution_count": 13,
   "metadata": {},
   "outputs": [],
   "source": [
    "SUPERFAMILLY = []\n",
    "CLASS_ARCHITECTURE = []\n",
    "TOPOLOGY = []\n",
    "GROUP_LENGHT = []\n",
    "PROTO_FOLD_group_ID = []\n",
    "FREQUENCY = []\n",
    "PROTO_FOLD_PROTOTYPE = []\n",
    "PU_FAMILY_MEMBERS_CATEGORY = []\n",
    "for element in data[7:]:\n",
    "    SUPERFAMILLY.append(element[0])\n",
    "    CLASS_ARCHITECTURE.append(element[1])\n",
    "    TOPOLOGY.append(element[2])\n",
    "    GROUP_LENGHT.append(element[3].split(\".\")[0])\n",
    "    PROTO_FOLD_group_ID.append(element[3].split(\".\")[1])\n",
    "    FREQUENCY.append(element[4])\n",
    "    PROTO_FOLD_PROTOTYPE.append(element[5])\n",
    "    PU_FAMILY_MEMBERS_CATEGORY.append(element[6:])"
   ]
  },
  {
   "cell_type": "code",
   "execution_count": 14,
   "metadata": {},
   "outputs": [],
   "source": [
    "d = {\n",
    "    \"SUPERFAMILLY\": SUPERFAMILLY,\n",
    "    \"CLASS_ARCHITECTURE\": CLASS_ARCHITECTURE,\n",
    "    \"TOPOLOGY\": TOPOLOGY,\n",
    "    \"GROUP_LENGHT\": GROUP_LENGHT,\n",
    "    \"PROTO_FOLD_group_ID\": PROTO_FOLD_group_ID,\n",
    "    \"FREQUENCY\": FREQUENCY,\n",
    "    \"PROTO_FOLD_PROTOTYPE\": PROTO_FOLD_PROTOTYPE,\n",
    "    \"PU_FAMILY_MEMBERS_CATEGORY\": PU_FAMILY_MEMBERS_CATEGORY,\n",
    "}"
   ]
  },
  {
   "cell_type": "code",
   "execution_count": 15,
   "metadata": {},
   "outputs": [],
   "source": [
    "Pu_families = pd.DataFrame(data=d)"
   ]
  },
  {
   "cell_type": "markdown",
   "metadata": {},
   "source": [
    "Set data labels\n"
   ]
  },
  {
   "cell_type": "code",
   "execution_count": 16,
   "metadata": {},
   "outputs": [],
   "source": [
    "Sequence = []\n",
    "Is_pu = []\n",
    "file = []\n",
    "for record in fasta_sequence:\n",
    "    Sequence.append(str(record.seq))\n",
    "    file_name = f'{record.id}_{record.description.split(\"|\")[1].split(\" \")[1].split(\":\")[1]}_{record.description.split(\"|\")[2].split(\" \")[1].split(\":\")[1]}_{record.description.split(\"|\")[3].split(\" \")[1].split(\":\")[1]}'\n",
    "    file.append(file_name)\n",
    "    if file_name in No_Pu:\n",
    "        Is_pu.append(0)\n",
    "    elif file_name in Pu_families[\"PROTO_FOLD_PROTOTYPE\"].values:\n",
    "        Is_pu.append(1)\n",
    "    else:\n",
    "        Is_pu.append(2)"
   ]
  },
  {
   "cell_type": "code",
   "execution_count": 17,
   "metadata": {},
   "outputs": [],
   "source": [
    "d = {\"Sequence\": Sequence, \"Is_pu\": Is_pu, \"file\": file}"
   ]
  },
  {
   "cell_type": "code",
   "execution_count": 18,
   "metadata": {},
   "outputs": [],
   "source": [
    "seq_data = pd.DataFrame(data=d)"
   ]
  },
  {
   "cell_type": "code",
   "execution_count": 19,
   "metadata": {},
   "outputs": [
    {
     "data": {
      "text/html": [
       "<div>\n",
       "<style scoped>\n",
       "    .dataframe tbody tr th:only-of-type {\n",
       "        vertical-align: middle;\n",
       "    }\n",
       "\n",
       "    .dataframe tbody tr th {\n",
       "        vertical-align: top;\n",
       "    }\n",
       "\n",
       "    .dataframe thead th {\n",
       "        text-align: right;\n",
       "    }\n",
       "</style>\n",
       "<table border=\"1\" class=\"dataframe\">\n",
       "  <thead>\n",
       "    <tr style=\"text-align: right;\">\n",
       "      <th></th>\n",
       "      <th>Sequence</th>\n",
       "      <th>Is_pu</th>\n",
       "      <th>file</th>\n",
       "    </tr>\n",
       "  </thead>\n",
       "  <tbody>\n",
       "    <tr>\n",
       "      <th>134</th>\n",
       "      <td>DLFSALPTNADLYRECKFL</td>\n",
       "      <td>0</td>\n",
       "      <td>16VPA_10_41_59</td>\n",
       "    </tr>\n",
       "    <tr>\n",
       "      <th>173</th>\n",
       "      <td>HGDVAFPTLPATRDGL</td>\n",
       "      <td>0</td>\n",
       "      <td>16VPA_12_85_100</td>\n",
       "    </tr>\n",
       "    <tr>\n",
       "      <th>181</th>\n",
       "      <td>FDCLCCDLESWRQLAGLFQP</td>\n",
       "      <td>0</td>\n",
       "      <td>16VPA_13_207_226</td>\n",
       "    </tr>\n",
       "    <tr>\n",
       "      <th>274</th>\n",
       "      <td>AALEPTDSGAPSAIVMFPVGEKPNPKGAAMKPVVFNHLIHEKKIA</td>\n",
       "      <td>0</td>\n",
       "      <td>19HCA_10_1_45</td>\n",
       "    </tr>\n",
       "    <tr>\n",
       "      <th>277</th>\n",
       "      <td>EILCATCHHRSPLSLTPP</td>\n",
       "      <td>0</td>\n",
       "      <td>19HCA_10_222_239</td>\n",
       "    </tr>\n",
       "    <tr>\n",
       "      <th>...</th>\n",
       "      <td>...</td>\n",
       "      <td>...</td>\n",
       "      <td>...</td>\n",
       "    </tr>\n",
       "    <tr>\n",
       "      <th>400404</th>\n",
       "      <td>EGKFTEEVMVNFVTKEGNLPDPTNYFDFDSIYWSVNRSKSDVSYGD...</td>\n",
       "      <td>0</td>\n",
       "      <td>2JJQA_10_166_219</td>\n",
       "    </tr>\n",
       "    <tr>\n",
       "      <th>403207</th>\n",
       "      <td>LDPQQPIFTVPGCISATPISDILDAQLPTWGQSLTSGATLLHNKQP...</td>\n",
       "      <td>0</td>\n",
       "      <td>2NPIA_12_143_196</td>\n",
       "    </tr>\n",
       "    <tr>\n",
       "      <th>405713</th>\n",
       "      <td>ESTYGGFSNVIFEKSVPTPQLLRDVPDDEEYVPSVLYGCTCDGVDV...</td>\n",
       "      <td>0</td>\n",
       "      <td>2NVAA_10_281_335</td>\n",
       "    </tr>\n",
       "    <tr>\n",
       "      <th>409607</th>\n",
       "      <td>KVYQFDFGSGSMEPGYIGVRASDRYDRSKGYGFQTPENMRDVAASG...</td>\n",
       "      <td>0</td>\n",
       "      <td>2O14A_7_1_55</td>\n",
       "    </tr>\n",
       "    <tr>\n",
       "      <th>414161</th>\n",
       "      <td>SDTLYINGIRIPYRPQVNSLQWARGTVYCTPAQLNELLGGVNRPAS...</td>\n",
       "      <td>0</td>\n",
       "      <td>2OAJA_2_821_875</td>\n",
       "    </tr>\n",
       "  </tbody>\n",
       "</table>\n",
       "<p>2981 rows × 3 columns</p>\n",
       "</div>"
      ],
      "text/plain": [
       "                                                 Sequence  Is_pu  \\\n",
       "134                                   DLFSALPTNADLYRECKFL      0   \n",
       "173                                      HGDVAFPTLPATRDGL      0   \n",
       "181                                  FDCLCCDLESWRQLAGLFQP      0   \n",
       "274         AALEPTDSGAPSAIVMFPVGEKPNPKGAAMKPVVFNHLIHEKKIA      0   \n",
       "277                                    EILCATCHHRSPLSLTPP      0   \n",
       "...                                                   ...    ...   \n",
       "400404  EGKFTEEVMVNFVTKEGNLPDPTNYFDFDSIYWSVNRSKSDVSYGD...      0   \n",
       "403207  LDPQQPIFTVPGCISATPISDILDAQLPTWGQSLTSGATLLHNKQP...      0   \n",
       "405713  ESTYGGFSNVIFEKSVPTPQLLRDVPDDEEYVPSVLYGCTCDGVDV...      0   \n",
       "409607  KVYQFDFGSGSMEPGYIGVRASDRYDRSKGYGFQTPENMRDVAASG...      0   \n",
       "414161  SDTLYINGIRIPYRPQVNSLQWARGTVYCTPAQLNELLGGVNRPAS...      0   \n",
       "\n",
       "                    file  \n",
       "134       16VPA_10_41_59  \n",
       "173      16VPA_12_85_100  \n",
       "181     16VPA_13_207_226  \n",
       "274        19HCA_10_1_45  \n",
       "277     19HCA_10_222_239  \n",
       "...                  ...  \n",
       "400404  2JJQA_10_166_219  \n",
       "403207  2NPIA_12_143_196  \n",
       "405713  2NVAA_10_281_335  \n",
       "409607      2O14A_7_1_55  \n",
       "414161   2OAJA_2_821_875  \n",
       "\n",
       "[2981 rows x 3 columns]"
      ]
     },
     "execution_count": 19,
     "metadata": {},
     "output_type": "execute_result"
    }
   ],
   "source": [
    "seq_data.loc[seq_data[\"Is_pu\"] == 0]"
   ]
  },
  {
   "cell_type": "code",
   "execution_count": 20,
   "metadata": {},
   "outputs": [
    {
     "data": {
      "image/png": "[encoded data removed]",
      "text/plain": [
       "<Figure size 640x480 with 1 Axes>"
      ]
     },
     "metadata": {},
     "output_type": "display_data"
    }
   ],
   "source": [
    "# Count on pu and non pu\n",
    "\n",
    "\n",
    "sns.countplot(x=\"Is_pu\", data=seq_data.loc[(seq_data[\"Is_pu\"] != 2)], hue=\"Is_pu\")\n",
    "plt.show()"
   ]
  },
  {
   "cell_type": "markdown",
   "metadata": {},
   "source": [
    "Data for embedding\n"
   ]
  },
  {
   "cell_type": "code",
   "execution_count": 21,
   "metadata": {},
   "outputs": [],
   "source": [
    "pre_emb_pu = seq_data.loc[(seq_data[\"Is_pu\"] == 1)][[\"Sequence\", \"file\"]]\n",
    "pre_emb_nonpu = seq_data.loc[(seq_data[\"Is_pu\"] == 0)][[\"Sequence\", \"file\"]]"
   ]
  },
  {
   "cell_type": "markdown",
   "metadata": {},
   "source": [
    "Transformers\n"
   ]
  },
  {
   "cell_type": "code",
   "execution_count": 22,
   "metadata": {},
   "outputs": [],
   "source": [
    "EMB_PATH_PU = \"./embeddings/pu\"\n",
    "EMB_PATH_NONPU = \"./embeddings/nonpu\""
   ]
  },
  {
   "cell_type": "code",
   "execution_count": 23,
   "metadata": {},
   "outputs": [],
   "source": [
    "def embedding_preparation(pre_emb, EMB_PATH):\n",
    "    model, alphabet = esm.pretrained.esm2_t33_650M_UR50D()\n",
    "\n",
    "    batch_converter = alphabet.get_batch_converter()\n",
    "\n",
    "    model.eval()  # disables dropout for deterministic results\n",
    "\n",
    "    for line in pre_emb.values:\n",
    "        # Prepare data (first 2 sequences from ESMStructuralSplitDataset superfamily / 4)\n",
    "\n",
    "        data = [(line[1], line[0])]\n",
    "\n",
    "        batch_labels, batch_strs, batch_tokens = batch_converter(data)\n",
    "\n",
    "        batch_lens = (batch_tokens != alphabet.padding_idx).sum(1)\n",
    "\n",
    "        # Extract per-residue representations (on CPU)\n",
    "\n",
    "        with torch.no_grad():\n",
    "            results = model(batch_tokens, repr_layers=[33], return_contacts=True)\n",
    "\n",
    "            torch.save(results, f\"{EMB_PATH}/{line[1]}.pt\")"
   ]
  },
  {
   "cell_type": "code",
   "execution_count": 24,
   "metadata": {},
   "outputs": [
    {
     "name": "stderr",
     "output_type": "stream",
     "text": [
      "Downloading: \"https://dl.fbaipublicfiles.com/fair-esm/models/esm2_t33_650M_UR50D.pt\" to /Users/mathisreineat-40/.cache/torch/hub/checkpoints/esm2_t33_650M_UR50D.pt\n",
      "Downloading: \"https://dl.fbaipublicfiles.com/fair-esm/regression/esm2_t33_650M_UR50D-contact-regression.pt\" to /Users/mathisreineat-40/.cache/torch/hub/checkpoints/esm2_t33_650M_UR50D-contact-regression.pt\n"
     ]
    }
   ],
   "source": [
    "embedding_preparation(pre_emb_pu, EMB_PATH_PU)\n",
    "embedding_preparation(pre_emb_nonpu, EMB_PATH_NONPU)"
   ]
  },
  {
   "cell_type": "code",
   "execution_count": 25,
   "metadata": {},
   "outputs": [],
   "source": [
    "def padding(tensor, max_size):\n",
    "    if tensor.numpy().shape[0] < max_size:\n",
    "        padding = max_size - tensor.numpy().shape[0]\n",
    "        tensor = tf.pad(tensor, ((0, padding), (0, 0)))\n",
    "    return tensor"
   ]
  },
  {
   "cell_type": "code",
   "execution_count": 26,
   "metadata": {},
   "outputs": [],
   "source": [
    "# List of all embeddings\n",
    "def get_embedding_list(PATH, label, max_size):\n",
    "    list_of_embeddings = []\n",
    "    for filename in os.listdir(PATH):\n",
    "        embedding_dict = torch.load(os.path.join(PATH, filename))[\"representations\"][\n",
    "            33\n",
    "        ][0]\n",
    "\n",
    "        embedding_tensor = tf.convert_to_tensor(embedding_dict)\n",
    "        embedding_tensor = padding(embedding_tensor, max_size)\n",
    "        list_of_embeddings.append(embedding_tensor)\n",
    "    return list_of_embeddings, [label] * len(list_of_embeddings)"
   ]
  },
  {
   "cell_type": "code",
   "execution_count": 104,
   "metadata": {},
   "outputs": [],
   "source": [
    "batch_size = 200"
   ]
  },
  {
   "cell_type": "code",
   "execution_count": 27,
   "metadata": {},
   "outputs": [],
   "source": [
    "pd_non_pu, label_non_pu = get_embedding_list(EMB_PATH_NONPU, 0, 62)\n",
    "pd_pu, label_pu = get_embedding_list(EMB_PATH_PU, 1, 62)"
   ]
  },
  {
   "cell_type": "code",
   "execution_count": 28,
   "metadata": {},
   "outputs": [],
   "source": [
    "embeddings = pd_non_pu + pd_pu\n",
    "labels = label_non_pu + label_pu"
   ]
  },
  {
   "cell_type": "code",
   "execution_count": 29,
   "metadata": {},
   "outputs": [],
   "source": [
    "# Split data into train and validation\n",
    "from sklearn.model_selection import train_test_split\n",
    "\n",
    "train_set, val_set, train_labels, val_labels = train_test_split(\n",
    "    embeddings, labels, test_size=0.2\n",
    ")"
   ]
  },
  {
   "cell_type": "code",
   "execution_count": 30,
   "metadata": {},
   "outputs": [],
   "source": [
    "def conv_data(data, labels):\n",
    "    return tf.data.Dataset.from_tensor_slices((data, labels))"
   ]
  },
  {
   "cell_type": "code",
   "execution_count": 31,
   "metadata": {},
   "outputs": [],
   "source": [
    "def prep_data(train, lab, batch_size):\n",
    "    tf_dataset = conv_data(train, lab)\n",
    "    tf_dataset = tf_dataset.batch(batch_size)\n",
    "    tf_dataset = tf_dataset.prefetch(tf.data.AUTOTUNE)\n",
    "    return tf_dataset"
   ]
  },
  {
   "cell_type": "code",
   "execution_count": 108,
   "metadata": {},
   "outputs": [],
   "source": [
    "tf_dataset = prep_data(train_set, train_labels, batch_size)\n",
    "tf_val_dataset = prep_data(val_set, val_labels, batch_size)"
   ]
  },
  {
   "cell_type": "markdown",
   "metadata": {},
   "source": [
    "Tensorflow model:\n",
    "\n",
    "Protein classification\n"
   ]
  },
  {
   "cell_type": "code",
   "execution_count": 33,
   "metadata": {},
   "outputs": [],
   "source": [
    "# Compute class weights\n",
    "\n",
    "\n",
    "class_weights = compute_class_weight(\n",
    "    class_weight=\"balanced\", classes=np.unique(train_labels), y=train_labels\n",
    ")\n",
    "class_weights = dict(enumerate(class_weights))"
   ]
  },
  {
   "cell_type": "code",
   "execution_count": 109,
   "metadata": {},
   "outputs": [
    {
     "name": "stderr",
     "output_type": "stream",
     "text": [
      "WARNING:absl:At this time, the v2.11+ optimizer `tf.keras.optimizers.Adam` runs slowly on M1/M2 Macs, please use the legacy Keras optimizer instead, located at `tf.keras.optimizers.legacy.Adam`.\n"
     ]
    },
    {
     "name": "stdout",
     "output_type": "stream",
     "text": [
      "Model: \"sequential_16\"\n",
      "_________________________________________________________________\n",
      " Layer (type)                Output Shape              Param #   \n",
      "=================================================================\n",
      " gru_34 (GRU)                (None, 62, 300)           1423800   \n",
      "                                                                 \n",
      " gru_35 (GRU)                (None, 62, 200)           301200    \n",
      "                                                                 \n",
      " gru_36 (GRU)                (None, 124)               121272    \n",
      "                                                                 \n",
      " dense_20 (Dense)            (None, 2)                 250       \n",
      "                                                                 \n",
      "=================================================================\n",
      "Total params: 1846522 (7.04 MB)\n",
      "Trainable params: 1846522 (7.04 MB)\n",
      "Non-trainable params: 0 (0.00 Byte)\n",
      "_________________________________________________________________\n"
     ]
    }
   ],
   "source": [
    "model_tf = tf.keras.Sequential(\n",
    "    [\n",
    "        tf.keras.layers.Input(shape=(62, 1280)),\n",
    "        tf.keras.layers.GRU(300, return_sequences=True, dropout=0.3),\n",
    "        tf.keras.layers.GRU(200, return_sequences=True, dropout=0.5),\n",
    "        tf.keras.layers.GRU(124, dropout=0.1),\n",
    "        tf.keras.layers.Dense(2, activation=\"softmax\"),\n",
    "    ]\n",
    ")\n",
    "optimizer = tf.keras.optimizers.Adam(learning_rate=0.0001)\n",
    "model_tf.summary()\n",
    "model_tf.compile(\n",
    "    optimizer=optimizer,\n",
    "    loss=\"sparse_categorical_crossentropy\",\n",
    "    metrics=[\"accuracy\"],\n",
    "    \n",
    ")"
   ]
  },
  {
   "cell_type": "code",
   "execution_count": 110,
   "metadata": {},
   "outputs": [
    {
     "name": "stdout",
     "output_type": "stream",
     "text": [
      "Epoch 1/500\n",
      "21/21 [==============================] - 16s 652ms/step - loss: 0.6903 - accuracy: 0.5777 - val_loss: 0.6818 - val_accuracy: 0.6071\n",
      "Epoch 2/500\n",
      "21/21 [==============================] - 13s 631ms/step - loss: 0.6806 - accuracy: 0.5115 - val_loss: 0.6793 - val_accuracy: 0.4857\n",
      "Epoch 3/500\n",
      "21/21 [==============================] - 13s 634ms/step - loss: 0.6684 - accuracy: 0.5204 - val_loss: 0.6821 - val_accuracy: 0.5123\n",
      "Epoch 4/500\n",
      "21/21 [==============================] - 13s 619ms/step - loss: 0.6501 - accuracy: 0.5522 - val_loss: 0.6664 - val_accuracy: 0.5548\n",
      "Epoch 5/500\n",
      "21/21 [==============================] - 13s 628ms/step - loss: 0.6064 - accuracy: 0.6308 - val_loss: 0.6107 - val_accuracy: 0.6861\n",
      "Epoch 6/500\n",
      "21/21 [==============================] - 14s 642ms/step - loss: 0.5590 - accuracy: 0.7170 - val_loss: 0.6164 - val_accuracy: 0.6634\n",
      "Epoch 7/500\n",
      "21/21 [==============================] - 13s 634ms/step - loss: 0.5319 - accuracy: 0.7320 - val_loss: 0.5945 - val_accuracy: 0.6752\n",
      "Epoch 8/500\n",
      "21/21 [==============================] - 13s 624ms/step - loss: 0.5094 - accuracy: 0.7471 - val_loss: 0.5666 - val_accuracy: 0.6989\n",
      "Epoch 9/500\n",
      "21/21 [==============================] - 13s 621ms/step - loss: 0.4950 - accuracy: 0.7538 - val_loss: 0.5511 - val_accuracy: 0.7266\n",
      "Epoch 10/500\n",
      "21/21 [==============================] - 13s 622ms/step - loss: 0.4851 - accuracy: 0.7609 - val_loss: 0.5352 - val_accuracy: 0.7374\n",
      "Epoch 11/500\n",
      "21/21 [==============================] - 13s 631ms/step - loss: 0.4739 - accuracy: 0.7627 - val_loss: 0.5324 - val_accuracy: 0.7443\n",
      "Epoch 12/500\n",
      "21/21 [==============================] - 14s 649ms/step - loss: 0.4621 - accuracy: 0.7753 - val_loss: 0.5363 - val_accuracy: 0.7443\n",
      "Epoch 13/500\n",
      "21/21 [==============================] - 14s 642ms/step - loss: 0.4545 - accuracy: 0.7797 - val_loss: 0.5277 - val_accuracy: 0.7502\n",
      "Epoch 14/500\n",
      "21/21 [==============================] - 14s 641ms/step - loss: 0.4429 - accuracy: 0.7918 - val_loss: 0.5244 - val_accuracy: 0.7532\n",
      "Epoch 15/500\n",
      "21/21 [==============================] - 13s 608ms/step - loss: 0.4388 - accuracy: 0.7925 - val_loss: 0.5298 - val_accuracy: 0.7473\n",
      "Epoch 16/500\n",
      "21/21 [==============================] - 13s 617ms/step - loss: 0.4352 - accuracy: 0.7881 - val_loss: 0.5292 - val_accuracy: 0.7483\n",
      "Epoch 17/500\n",
      "21/21 [==============================] - 13s 617ms/step - loss: 0.4274 - accuracy: 0.7985 - val_loss: 0.5284 - val_accuracy: 0.7463\n"
     ]
    },
    {
     "data": {
      "text/plain": [
       "<keras.src.callbacks.History at 0x35859ea10>"
      ]
     },
     "execution_count": 110,
     "metadata": {},
     "output_type": "execute_result"
    }
   ],
   "source": [
    "callback = tf.keras.callbacks.EarlyStopping(monitor=\"val_loss\", patience=3)\n",
    "\n",
    "model_tf.fit(\n",
    "    tf_dataset,\n",
    "    epochs=500,\n",
    "    validation_data=tf_val_dataset,\n",
    "    callbacks=callback,\n",
    "    class_weight=class_weights,\n",
    "    batch_size = batch_size,\n",
    "\n",
    ")"
   ]
  },
  {
   "cell_type": "code",
   "execution_count": 36,
   "metadata": {},
   "outputs": [],
   "source": [
    "def plot_history(history, metric):\n",
    "    plt.plot(history.history[f\"{metric}\"])\n",
    "    plt.plot(history.history[f\"val_{metric}\"])\n",
    "    plt.title(f\"model {metric}\")\n",
    "    plt.legend([\"train\", \"test\"], loc=\"upper left\")\n",
    "    plt.ylabel(f\"{metric}\")\n",
    "    plt.xlabel(\"epoch\")\n",
    "    plt.show()"
   ]
  },
  {
   "cell_type": "code",
   "execution_count": 111,
   "metadata": {},
   "outputs": [
    {
     "data": {
      "image/png": "[encoded data removed]",
      "text/plain": [
       "<Figure size 640x480 with 1 Axes>"
      ]
     },
     "metadata": {},
     "output_type": "display_data"
    },
    {
     "data": {
      "image/png": "[encoded data removed]",
      "text/plain": [
       "<Figure size 640x480 with 1 Axes>"
      ]
     },
     "metadata": {},
     "output_type": "display_data"
    }
   ],
   "source": [
    "plot_history(model_tf.history, \"accuracy\")\n",
    "plot_history(model_tf.history, \"loss\")"
   ]
  },
  {
   "cell_type": "code",
   "execution_count": 112,
   "metadata": {},
   "outputs": [
    {
     "name": "stdout",
     "output_type": "stream",
     "text": [
      "16/16 [==============================] - 2s 105ms/step\n"
     ]
    },
    {
     "data": {
      "image/png": "[encoded data removed]",
      "text/plain": [
       "<Figure size 640x480 with 2 Axes>"
      ]
     },
     "metadata": {},
     "output_type": "display_data"
    }
   ],
   "source": [
    "ConfusionMatrixDisplay.from_predictions(\n",
    "    val_labels,\n",
    "    model_tf.predict(prep_data(val_set, val_labels, 64)).argmax(axis=1),\n",
    "    cmap=\"Blues\",\n",
    "    normalize=\"true\",\n",
    "    display_labels=[\"Non-PU\", \"PU\"],\n",
    ")\n",
    "plt.show()"
   ]
  },
  {
   "cell_type": "code",
   "execution_count": 66,
   "metadata": {},
   "outputs": [
    {
     "name": "stdout",
     "output_type": "stream",
     "text": [
      "16/16 [==============================] - 1s 66ms/step\n",
      "Balanced accuracy:  0.7384682385350834\n"
     ]
    }
   ],
   "source": [
    "# Compute balanced accuracy\n",
    "\n",
    "print(\n",
    "    \"Balanced accuracy: \",\n",
    "    balanced_accuracy_score(\n",
    "        val_labels, model_tf.predict(prep_data(val_set, val_labels, 64)).argmax(axis=1)\n",
    "    ),\n",
    ")"
   ]
  },
  {
   "cell_type": "code",
   "execution_count": 40,
   "metadata": {},
   "outputs": [],
   "source": [
    "EMB_UNKOWN = \"./embeddings/unknown\"\n",
    "unknown = seq_data.loc[(seq_data[\"Is_pu\"] == 2)][[\"Sequence\", \"file\"]]"
   ]
  },
  {
   "cell_type": "code",
   "execution_count": null,
   "metadata": {},
   "outputs": [],
   "source": [
    "embedding_preparation(unknown, EMB_UNKOWN)"
   ]
  },
  {
   "cell_type": "code",
   "execution_count": 42,
   "metadata": {},
   "outputs": [],
   "source": [
    "tensor_unknown = tf.convert_to_tensor(\n",
    "    torch.load(EMB_UNKOWN + \"/1A0CA_1_1_385.pt\")[\"representations\"][33][0]\n",
    ")"
   ]
  },
  {
   "cell_type": "code",
   "execution_count": 43,
   "metadata": {},
   "outputs": [],
   "source": [
    "set_unknown = tf.data.Dataset.from_tensor_slices(\n",
    "    (tensor_unknown, [2] * len(tensor_unknown))\n",
    ")\n",
    "set_unknown = set_unknown.batch(128)\n",
    "set_unknown = set_unknown.prefetch(tf.data.AUTOTUNE)"
   ]
  },
  {
   "cell_type": "code",
   "execution_count": 46,
   "metadata": {},
   "outputs": [
    {
     "data": {
      "text/plain": [
       "4"
      ]
     },
     "execution_count": 46,
     "metadata": {},
     "output_type": "execute_result"
    }
   ],
   "source": [
    "len(set_unknown)\n"
   ]
  },
  {
   "cell_type": "code",
   "execution_count": 57,
   "metadata": {},
   "outputs": [
    {
     "name": "stderr",
     "output_type": "stream",
     "text": [
      "WARNING:absl:At this time, the v2.11+ optimizer `tf.keras.optimizers.Adam` runs slowly on M1/M2 Macs, please use the legacy Keras optimizer instead, located at `tf.keras.optimizers.legacy.Adam`.\n"
     ]
    },
    {
     "name": "stdout",
     "output_type": "stream",
     "text": [
      "Model: \"sequential_6\"\n",
      "_________________________________________________________________\n",
      " Layer (type)                Output Shape              Param #   \n",
      "=================================================================\n",
      " dense_8 (Dense)             (62, 300)                 384300    \n",
      "                                                                 \n",
      " dense_9 (Dense)             (62, 124)                 37324     \n",
      "                                                                 \n",
      " dense_10 (Dense)            (62, 2)                   250       \n",
      "                                                                 \n",
      "=================================================================\n",
      "Total params: 421874 (1.61 MB)\n",
      "Trainable params: 421874 (1.61 MB)\n",
      "Non-trainable params: 0 (0.00 Byte)\n",
      "_________________________________________________________________\n"
     ]
    }
   ],
   "source": [
    "\n",
    "model = tf.keras.Sequential(\n",
    "    [\n",
    "        tf.keras.layers.InputLayer(input_tensor=pd_pu[0],batch),\n",
    "        tf.keras.layers.Dense(300, activation=\"relu\"),\n",
    "        tf.keras.layers.Dense(124, activation=\"relu\"),\n",
    "        tf.keras.layers.Dense(2, activation=\"softmax\"),\n",
    "    ]\n",
    ")\n",
    "optimizer = tf.keras.optimizers.Adam(learning_rate=0.0001)\n",
    "model.summary()\n",
    "model.compile(\n",
    "    \n",
    "    optimizer=optimizer,\n",
    "    loss=\"sparse_categorical_crossentropy\",\n",
    "    metrics=[\"accuracy\"],\n",
    ")"
   ]
  },
  {
   "cell_type": "code",
   "execution_count": 58,
   "metadata": {},
   "outputs": [
    {
     "ename": "ValueError",
     "evalue": "Failed to find data adapter that can handle input: (<class 'list'> containing values of types {\"<class 'tensorflow.python.framework.ops.EagerTensor'>\"}), (<class 'list'> containing values of types {\"<class 'int'>\"})",
     "output_type": "error",
     "traceback": [
      "\u001b[0;31m---------------------------------------------------------------------------\u001b[0m",
      "\u001b[0;31mValueError\u001b[0m                                Traceback (most recent call last)",
      "\u001b[1;32m/Users/mathisreineat-40/Documents/GitHub/PU_ML/main.ipynb Cellule 47\u001b[0m line \u001b[0;36m1\n\u001b[0;32m----> <a href='vscode-notebook-cell:/Users/mathisreineat-40/Documents/GitHub/PU_ML/main.ipynb#X63sZmlsZQ%3D%3D?line=0'>1</a>\u001b[0m model\u001b[39m.\u001b[39;49mfit(\n\u001b[1;32m      <a href='vscode-notebook-cell:/Users/mathisreineat-40/Documents/GitHub/PU_ML/main.ipynb#X63sZmlsZQ%3D%3D?line=1'>2</a>\u001b[0m     train_set,\n\u001b[1;32m      <a href='vscode-notebook-cell:/Users/mathisreineat-40/Documents/GitHub/PU_ML/main.ipynb#X63sZmlsZQ%3D%3D?line=2'>3</a>\u001b[0m     train_labels,\n\u001b[1;32m      <a href='vscode-notebook-cell:/Users/mathisreineat-40/Documents/GitHub/PU_ML/main.ipynb#X63sZmlsZQ%3D%3D?line=3'>4</a>\u001b[0m     epochs\u001b[39m=\u001b[39;49m\u001b[39m500\u001b[39;49m,\n\u001b[1;32m      <a href='vscode-notebook-cell:/Users/mathisreineat-40/Documents/GitHub/PU_ML/main.ipynb#X63sZmlsZQ%3D%3D?line=4'>5</a>\u001b[0m     validation_data\u001b[39m=\u001b[39;49m(val_set, val_labels),\n\u001b[1;32m      <a href='vscode-notebook-cell:/Users/mathisreineat-40/Documents/GitHub/PU_ML/main.ipynb#X63sZmlsZQ%3D%3D?line=5'>6</a>\u001b[0m     callbacks\u001b[39m=\u001b[39;49mcallback,\n\u001b[1;32m      <a href='vscode-notebook-cell:/Users/mathisreineat-40/Documents/GitHub/PU_ML/main.ipynb#X63sZmlsZQ%3D%3D?line=6'>7</a>\u001b[0m     class_weight\u001b[39m=\u001b[39;49mclass_weights,\n\u001b[1;32m      <a href='vscode-notebook-cell:/Users/mathisreineat-40/Documents/GitHub/PU_ML/main.ipynb#X63sZmlsZQ%3D%3D?line=7'>8</a>\u001b[0m )\n",
      "File \u001b[0;32m/Library/Frameworks/Python.framework/Versions/3.11/lib/python3.11/site-packages/keras/src/utils/traceback_utils.py:70\u001b[0m, in \u001b[0;36mfilter_traceback.<locals>.error_handler\u001b[0;34m(*args, **kwargs)\u001b[0m\n\u001b[1;32m     67\u001b[0m     filtered_tb \u001b[39m=\u001b[39m _process_traceback_frames(e\u001b[39m.\u001b[39m__traceback__)\n\u001b[1;32m     68\u001b[0m     \u001b[39m# To get the full stack trace, call:\u001b[39;00m\n\u001b[1;32m     69\u001b[0m     \u001b[39m# `tf.debugging.disable_traceback_filtering()`\u001b[39;00m\n\u001b[0;32m---> 70\u001b[0m     \u001b[39mraise\u001b[39;00m e\u001b[39m.\u001b[39mwith_traceback(filtered_tb) \u001b[39mfrom\u001b[39;00m \u001b[39mNone\u001b[39;00m\n\u001b[1;32m     71\u001b[0m \u001b[39mfinally\u001b[39;00m:\n\u001b[1;32m     72\u001b[0m     \u001b[39mdel\u001b[39;00m filtered_tb\n",
      "File \u001b[0;32m/Library/Frameworks/Python.framework/Versions/3.11/lib/python3.11/site-packages/keras/src/engine/data_adapter.py:1105\u001b[0m, in \u001b[0;36mselect_data_adapter\u001b[0;34m(x, y)\u001b[0m\n\u001b[1;32m   1102\u001b[0m adapter_cls \u001b[39m=\u001b[39m [\u001b[39mcls\u001b[39m \u001b[39mfor\u001b[39;00m \u001b[39mcls\u001b[39m \u001b[39min\u001b[39;00m ALL_ADAPTER_CLS \u001b[39mif\u001b[39;00m \u001b[39mcls\u001b[39m\u001b[39m.\u001b[39mcan_handle(x, y)]\n\u001b[1;32m   1103\u001b[0m \u001b[39mif\u001b[39;00m \u001b[39mnot\u001b[39;00m adapter_cls:\n\u001b[1;32m   1104\u001b[0m     \u001b[39m# TODO(scottzhu): This should be a less implementation-specific error.\u001b[39;00m\n\u001b[0;32m-> 1105\u001b[0m     \u001b[39mraise\u001b[39;00m \u001b[39mValueError\u001b[39;00m(\n\u001b[1;32m   1106\u001b[0m         \u001b[39m\"\u001b[39m\u001b[39mFailed to find data adapter that can handle input: \u001b[39m\u001b[39m{}\u001b[39;00m\u001b[39m, \u001b[39m\u001b[39m{}\u001b[39;00m\u001b[39m\"\u001b[39m\u001b[39m.\u001b[39mformat(\n\u001b[1;32m   1107\u001b[0m             _type_name(x), _type_name(y)\n\u001b[1;32m   1108\u001b[0m         )\n\u001b[1;32m   1109\u001b[0m     )\n\u001b[1;32m   1110\u001b[0m \u001b[39melif\u001b[39;00m \u001b[39mlen\u001b[39m(adapter_cls) \u001b[39m>\u001b[39m \u001b[39m1\u001b[39m:\n\u001b[1;32m   1111\u001b[0m     \u001b[39mraise\u001b[39;00m \u001b[39mRuntimeError\u001b[39;00m(\n\u001b[1;32m   1112\u001b[0m         \u001b[39m\"\u001b[39m\u001b[39mData adapters should be mutually exclusive for \u001b[39m\u001b[39m\"\u001b[39m\n\u001b[1;32m   1113\u001b[0m         \u001b[39m\"\u001b[39m\u001b[39mhandling inputs. Found multiple adapters \u001b[39m\u001b[39m{}\u001b[39;00m\u001b[39m to handle \u001b[39m\u001b[39m\"\u001b[39m\n\u001b[1;32m   1114\u001b[0m         \u001b[39m\"\u001b[39m\u001b[39minput: \u001b[39m\u001b[39m{}\u001b[39;00m\u001b[39m, \u001b[39m\u001b[39m{}\u001b[39;00m\u001b[39m\"\u001b[39m\u001b[39m.\u001b[39mformat(adapter_cls, _type_name(x), _type_name(y))\n\u001b[1;32m   1115\u001b[0m     )\n",
      "\u001b[0;31mValueError\u001b[0m: Failed to find data adapter that can handle input: (<class 'list'> containing values of types {\"<class 'tensorflow.python.framework.ops.EagerTensor'>\"}), (<class 'list'> containing values of types {\"<class 'int'>\"})"
     ]
    }
   ],
   "source": [
    "model.fit(\n",
    "    train_set,\n",
    "    train_labels,\n",
    "    epochs=500,\n",
    "    validation_data=(val_set, val_labels),\n",
    "    callbacks=callback,\n",
    "    class_weight=class_weights,\n",
    ")"
   ]
  },
  {
   "cell_type": "code",
   "execution_count": null,
   "metadata": {},
   "outputs": [],
   "source": []
  }
 ],
 "metadata": {
  "kernelspec": {
   "display_name": "Python 3",
   "language": "python",
   "name": "python3"
  },
  "language_info": {
   "codemirror_mode": {
    "name": "ipython",
    "version": 3
   },
   "file_extension": ".py",
   "mimetype": "text/x-python",
   "name": "python",
   "nbconvert_exporter": "python",
   "pygments_lexer": "ipython3",
   "version": "3.11.4"
  }
 },
 "nbformat": 4,
 "nbformat_minor": 2
}
