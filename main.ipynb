{
 "cells": [
  {
   "cell_type": "code",
   "execution_count": 36,
   "metadata": {},
   "outputs": [],
   "source": [
    "import torch\n",
    "import pandas as pd\n",
    "import esm\n",
    "import matplotlib.pyplot as plt\n",
    "import os\n",
    "import tensorflow as tf\n",
    "from sklearn.metrics import ConfusionMatrixDisplay\n",
    "import seaborn as sns\n",
    "from sklearn.utils.class_weight import compute_class_weight\n",
    "from sklearn.metrics import balanced_accuracy_score\n",
    "\n",
    "import numpy as np"
   ]
  },
  {
   "cell_type": "markdown",
   "metadata": {},
   "source": [
    "# Data prep\n"
   ]
  },
  {
   "cell_type": "markdown",
   "metadata": {},
   "source": [
    "Open Non Core Pu file\n"
   ]
  },
  {
   "cell_type": "code",
   "execution_count": 3,
   "metadata": {},
   "outputs": [],
   "source": [
    "with open(\"SET_PUs_NON_CORES (1).txt\") as f:\n",
    "    No_Pu = f.readlines()\n",
    "\n",
    "for i in range(len(No_Pu)):\n",
    "    No_Pu[i] = No_Pu[i].strip()"
   ]
  },
  {
   "cell_type": "markdown",
   "metadata": {},
   "source": [
    "Open Fasta data\n"
   ]
  },
  {
   "cell_type": "code",
   "execution_count": 4,
   "metadata": {},
   "outputs": [],
   "source": [
    "from Bio import SeqIO\n",
    "\n",
    "fasta_file = \"DB_PU_NONPU_SEQ.fasta\"\n",
    "fasta_sequence = []\n",
    "with open(fasta_file, \"r\") as f:\n",
    "    for record in SeqIO.parse(f, \"fasta\"):\n",
    "        fasta_sequence.append(record)"
   ]
  },
  {
   "cell_type": "markdown",
   "metadata": {},
   "source": [
    "Open Pu File\n"
   ]
  },
  {
   "cell_type": "code",
   "execution_count": 5,
   "metadata": {},
   "outputs": [],
   "source": [
    "Pu = pd.read_table(\n",
    "    \"LISTS_CATFS_PU_PROTOTYPE_with_fused_famillies (1)\", sep=\"\\t\", header=None\n",
    ")"
   ]
  },
  {
   "cell_type": "code",
   "execution_count": 6,
   "metadata": {},
   "outputs": [],
   "source": [
    "data = []\n",
    "for line in Pu[0]:\n",
    "    liste = []\n",
    "\n",
    "    line = line.split(\" \")\n",
    "    for element in line:\n",
    "        if element != \"\":\n",
    "            liste.append(element)\n",
    "    data.append(liste)"
   ]
  },
  {
   "cell_type": "code",
   "execution_count": 7,
   "metadata": {},
   "outputs": [],
   "source": [
    "SUPERFAMILLY = []\n",
    "CLASS_ARCHITECTURE = []\n",
    "TOPOLOGY = []\n",
    "GROUP_LENGHT = []\n",
    "PROTO_FOLD_group_ID = []\n",
    "FREQUENCY = []\n",
    "PROTO_FOLD_PROTOTYPE = []\n",
    "PU_FAMILY_MEMBERS_CATEGORY = []\n",
    "for element in data[7:]:\n",
    "    SUPERFAMILLY.append(element[0])\n",
    "    CLASS_ARCHITECTURE.append(element[1])\n",
    "    TOPOLOGY.append(element[2])\n",
    "    GROUP_LENGHT.append(element[3].split(\".\")[0])\n",
    "    PROTO_FOLD_group_ID.append(element[3].split(\".\")[1])\n",
    "    FREQUENCY.append(element[4])\n",
    "    PROTO_FOLD_PROTOTYPE.append(element[5])\n",
    "    PU_FAMILY_MEMBERS_CATEGORY.append(element[6:])"
   ]
  },
  {
   "cell_type": "code",
   "execution_count": 8,
   "metadata": {},
   "outputs": [],
   "source": [
    "d = {\n",
    "    \"SUPERFAMILLY\": SUPERFAMILLY,\n",
    "    \"CLASS_ARCHITECTURE\": CLASS_ARCHITECTURE,\n",
    "    \"TOPOLOGY\": TOPOLOGY,\n",
    "    \"GROUP_LENGHT\": GROUP_LENGHT,\n",
    "    \"PROTO_FOLD_group_ID\": PROTO_FOLD_group_ID,\n",
    "    \"FREQUENCY\": FREQUENCY,\n",
    "    \"PROTO_FOLD_PROTOTYPE\": PROTO_FOLD_PROTOTYPE,\n",
    "    \"PU_FAMILY_MEMBERS_CATEGORY\": PU_FAMILY_MEMBERS_CATEGORY,\n",
    "}"
   ]
  },
  {
   "cell_type": "code",
   "execution_count": 9,
   "metadata": {},
   "outputs": [],
   "source": [
    "Pu_families = pd.DataFrame(data=d)"
   ]
  },
  {
   "cell_type": "markdown",
   "metadata": {},
   "source": [
    "Set data labels\n"
   ]
  },
  {
   "cell_type": "code",
   "execution_count": 10,
   "metadata": {},
   "outputs": [],
   "source": [
    "Sequence = []\n",
    "Is_pu = []\n",
    "file = []\n",
    "for record in fasta_sequence:\n",
    "    Sequence.append(str(record.seq))\n",
    "    file_name = f'{record.id}_{record.description.split(\"|\")[1].split(\" \")[1].split(\":\")[1]}_{record.description.split(\"|\")[2].split(\" \")[1].split(\":\")[1]}_{record.description.split(\"|\")[3].split(\" \")[1].split(\":\")[1]}'\n",
    "    file.append(file_name)\n",
    "    if file_name in No_Pu:\n",
    "        Is_pu.append(0)\n",
    "    elif file_name in Pu_families[\"PROTO_FOLD_PROTOTYPE\"].values:\n",
    "        Is_pu.append(1)\n",
    "    else:\n",
    "        Is_pu.append(2)"
   ]
  },
  {
   "cell_type": "code",
   "execution_count": 11,
   "metadata": {},
   "outputs": [],
   "source": [
    "d = {\"Sequence\": Sequence, \"Is_pu\": Is_pu, \"file\": file}"
   ]
  },
  {
   "cell_type": "code",
   "execution_count": 12,
   "metadata": {},
   "outputs": [],
   "source": [
    "seq_data = pd.DataFrame(data=d)"
   ]
  },
  {
   "cell_type": "code",
   "execution_count": 15,
   "metadata": {},
   "outputs": [
    {
     "data": {
      "text/html": [
       "<div>\n",
       "<style scoped>\n",
       "    .dataframe tbody tr th:only-of-type {\n",
       "        vertical-align: middle;\n",
       "    }\n",
       "\n",
       "    .dataframe tbody tr th {\n",
       "        vertical-align: top;\n",
       "    }\n",
       "\n",
       "    .dataframe thead th {\n",
       "        text-align: right;\n",
       "    }\n",
       "</style>\n",
       "<table border=\"1\" class=\"dataframe\">\n",
       "  <thead>\n",
       "    <tr style=\"text-align: right;\">\n",
       "      <th></th>\n",
       "      <th>Sequence</th>\n",
       "      <th>Is_pu</th>\n",
       "      <th>file</th>\n",
       "    </tr>\n",
       "  </thead>\n",
       "  <tbody>\n",
       "    <tr>\n",
       "      <th>134</th>\n",
       "      <td>DLFSALPTNADLYRECKFL</td>\n",
       "      <td>0</td>\n",
       "      <td>16VPA_10_41_59</td>\n",
       "    </tr>\n",
       "    <tr>\n",
       "      <th>173</th>\n",
       "      <td>HGDVAFPTLPATRDGL</td>\n",
       "      <td>0</td>\n",
       "      <td>16VPA_12_85_100</td>\n",
       "    </tr>\n",
       "    <tr>\n",
       "      <th>181</th>\n",
       "      <td>FDCLCCDLESWRQLAGLFQP</td>\n",
       "      <td>0</td>\n",
       "      <td>16VPA_13_207_226</td>\n",
       "    </tr>\n",
       "    <tr>\n",
       "      <th>274</th>\n",
       "      <td>AALEPTDSGAPSAIVMFPVGEKPNPKGAAMKPVVFNHLIHEKKIA</td>\n",
       "      <td>0</td>\n",
       "      <td>19HCA_10_1_45</td>\n",
       "    </tr>\n",
       "    <tr>\n",
       "      <th>277</th>\n",
       "      <td>EILCATCHHRSPLSLTPP</td>\n",
       "      <td>0</td>\n",
       "      <td>19HCA_10_222_239</td>\n",
       "    </tr>\n",
       "    <tr>\n",
       "      <th>...</th>\n",
       "      <td>...</td>\n",
       "      <td>...</td>\n",
       "      <td>...</td>\n",
       "    </tr>\n",
       "    <tr>\n",
       "      <th>400404</th>\n",
       "      <td>EGKFTEEVMVNFVTKEGNLPDPTNYFDFDSIYWSVNRSKSDVSYGD...</td>\n",
       "      <td>0</td>\n",
       "      <td>2JJQA_10_166_219</td>\n",
       "    </tr>\n",
       "    <tr>\n",
       "      <th>403207</th>\n",
       "      <td>LDPQQPIFTVPGCISATPISDILDAQLPTWGQSLTSGATLLHNKQP...</td>\n",
       "      <td>0</td>\n",
       "      <td>2NPIA_12_143_196</td>\n",
       "    </tr>\n",
       "    <tr>\n",
       "      <th>405713</th>\n",
       "      <td>ESTYGGFSNVIFEKSVPTPQLLRDVPDDEEYVPSVLYGCTCDGVDV...</td>\n",
       "      <td>0</td>\n",
       "      <td>2NVAA_10_281_335</td>\n",
       "    </tr>\n",
       "    <tr>\n",
       "      <th>409607</th>\n",
       "      <td>KVYQFDFGSGSMEPGYIGVRASDRYDRSKGYGFQTPENMRDVAASG...</td>\n",
       "      <td>0</td>\n",
       "      <td>2O14A_7_1_55</td>\n",
       "    </tr>\n",
       "    <tr>\n",
       "      <th>414161</th>\n",
       "      <td>SDTLYINGIRIPYRPQVNSLQWARGTVYCTPAQLNELLGGVNRPAS...</td>\n",
       "      <td>0</td>\n",
       "      <td>2OAJA_2_821_875</td>\n",
       "    </tr>\n",
       "  </tbody>\n",
       "</table>\n",
       "<p>2981 rows × 3 columns</p>\n",
       "</div>"
      ],
      "text/plain": [
       "                                                 Sequence  Is_pu  \\\n",
       "134                                   DLFSALPTNADLYRECKFL      0   \n",
       "173                                      HGDVAFPTLPATRDGL      0   \n",
       "181                                  FDCLCCDLESWRQLAGLFQP      0   \n",
       "274         AALEPTDSGAPSAIVMFPVGEKPNPKGAAMKPVVFNHLIHEKKIA      0   \n",
       "277                                    EILCATCHHRSPLSLTPP      0   \n",
       "...                                                   ...    ...   \n",
       "400404  EGKFTEEVMVNFVTKEGNLPDPTNYFDFDSIYWSVNRSKSDVSYGD...      0   \n",
       "403207  LDPQQPIFTVPGCISATPISDILDAQLPTWGQSLTSGATLLHNKQP...      0   \n",
       "405713  ESTYGGFSNVIFEKSVPTPQLLRDVPDDEEYVPSVLYGCTCDGVDV...      0   \n",
       "409607  KVYQFDFGSGSMEPGYIGVRASDRYDRSKGYGFQTPENMRDVAASG...      0   \n",
       "414161  SDTLYINGIRIPYRPQVNSLQWARGTVYCTPAQLNELLGGVNRPAS...      0   \n",
       "\n",
       "                    file  \n",
       "134       16VPA_10_41_59  \n",
       "173      16VPA_12_85_100  \n",
       "181     16VPA_13_207_226  \n",
       "274        19HCA_10_1_45  \n",
       "277     19HCA_10_222_239  \n",
       "...                  ...  \n",
       "400404  2JJQA_10_166_219  \n",
       "403207  2NPIA_12_143_196  \n",
       "405713  2NVAA_10_281_335  \n",
       "409607      2O14A_7_1_55  \n",
       "414161   2OAJA_2_821_875  \n",
       "\n",
       "[2981 rows x 3 columns]"
      ]
     },
     "execution_count": 15,
     "metadata": {},
     "output_type": "execute_result"
    }
   ],
   "source": [
    "seq_data.loc[seq_data[\"Is_pu\"] == 0]"
   ]
  },
  {
   "cell_type": "code",
   "execution_count": 15,
   "metadata": {},
   "outputs": [
    {
     "data": {
      "image/png": "[encoded data removed]",
      "text/plain": [
       "<Figure size 640x480 with 1 Axes>"
      ]
     },
     "metadata": {},
     "output_type": "display_data"
    }
   ],
   "source": [
    "# Count on pu and non pu\n",
    "\n",
    "\n",
    "sns.countplot(x=\"Is_pu\", data=seq_data.loc[(seq_data[\"Is_pu\"] != 2)], hue=\"Is_pu\")\n",
    "plt.show()"
   ]
  },
  {
   "cell_type": "markdown",
   "metadata": {},
   "source": [
    "Data for embedding\n"
   ]
  },
  {
   "cell_type": "code",
   "execution_count": 21,
   "metadata": {},
   "outputs": [],
   "source": [
    "pre_emb_pu = seq_data.loc[(seq_data[\"Is_pu\"] == 1)][[\"Sequence\", \"file\"]]\n",
    "pre_emb_nonpu = seq_data.loc[(seq_data[\"Is_pu\"] == 0)][[\"Sequence\", \"file\"]]"
   ]
  },
  {
   "cell_type": "markdown",
   "metadata": {},
   "source": [
    "Transformers\n"
   ]
  },
  {
   "cell_type": "code",
   "execution_count": 16,
   "metadata": {},
   "outputs": [],
   "source": [
    "EMB_PATH_PU = \"./embeddings/pu\"\n",
    "EMB_PATH_NONPU = \"./embeddings/nonpu\""
   ]
  },
  {
   "cell_type": "code",
   "execution_count": 17,
   "metadata": {},
   "outputs": [],
   "source": [
    "def embedding_preparation(pre_emb, EMB_PATH):\n",
    "    model, alphabet = esm.pretrained.esm2_t33_650M_UR50D()\n",
    "\n",
    "    batch_converter = alphabet.get_batch_converter()\n",
    "\n",
    "    model.eval()  # disables dropout for deterministic results\n",
    "\n",
    "    for line in pre_emb.values:\n",
    "        # Prepare data (first 2 sequences from ESMStructuralSplitDataset superfamily / 4)\n",
    "\n",
    "        data = [(line[1], line[0])]\n",
    "\n",
    "        batch_labels, batch_strs, batch_tokens = batch_converter(data)\n",
    "\n",
    "        batch_lens = (batch_tokens != alphabet.padding_idx).sum(1)\n",
    "\n",
    "        # Extract per-residue representations (on CPU)\n",
    "\n",
    "        with torch.no_grad():\n",
    "            results = model(batch_tokens, repr_layers=[33], return_contacts=True)\n",
    "\n",
    "            torch.save(results, f\"{EMB_PATH}/{line[1]}.pt\")"
   ]
  },
  {
   "cell_type": "code",
   "execution_count": 22,
   "metadata": {},
   "outputs": [],
   "source": [
    "embedding_preparation(pre_emb_pu, EMB_PATH_PU)\n",
    "embedding_preparation(pre_emb_nonpu, EMB_PATH_NONPU)"
   ]
  },
  {
   "cell_type": "code",
   "execution_count": 18,
   "metadata": {},
   "outputs": [],
   "source": [
    "def padding(tensor, max_size):\n",
    "    if tensor.numpy().shape[0] < max_size:\n",
    "        padding = max_size - tensor.numpy().shape[0]\n",
    "        tensor = tf.pad(tensor, ((0, padding), (0, 0)))\n",
    "    return tensor"
   ]
  },
  {
   "cell_type": "code",
   "execution_count": 19,
   "metadata": {},
   "outputs": [],
   "source": [
    "# List of all embeddings\n",
    "def get_embedding_list(PATH, label, max_size):\n",
    "    list_of_embeddings = []\n",
    "    for filename in os.listdir(PATH):\n",
    "        embedding_dict = torch.load(os.path.join(PATH, filename))[\"representations\"][\n",
    "            33\n",
    "        ][0]\n",
    "\n",
    "        embedding_tensor = tf.convert_to_tensor(embedding_dict)\n",
    "        embedding_tensor = padding(embedding_tensor, max_size)\n",
    "        list_of_embeddings.append(embedding_tensor)\n",
    "    return list_of_embeddings, [label] * len(list_of_embeddings)"
   ]
  },
  {
   "cell_type": "code",
   "execution_count": 20,
   "metadata": {},
   "outputs": [],
   "source": [
    "pd_non_pu, label_non_pu = get_embedding_list(EMB_PATH_NONPU, 0, 62)\n",
    "pd_pu, label_pu = get_embedding_list(EMB_PATH_PU, 1, 62)"
   ]
  },
  {
   "cell_type": "code",
   "execution_count": 21,
   "metadata": {},
   "outputs": [],
   "source": [
    "embeddings = pd_non_pu + pd_pu\n",
    "labels = label_non_pu + label_pu"
   ]
  },
  {
   "cell_type": "code",
   "execution_count": 22,
   "metadata": {},
   "outputs": [],
   "source": [
    "# Split data into train and validation\n",
    "from sklearn.model_selection import train_test_split\n",
    "\n",
    "train_set, val_set, train_labels, val_labels = train_test_split(\n",
    "    embeddings, labels, test_size=0.2\n",
    ")"
   ]
  },
  {
   "cell_type": "code",
   "execution_count": 23,
   "metadata": {},
   "outputs": [],
   "source": [
    "def conv_data(data, labels):\n",
    "    return tf.data.Dataset.from_tensor_slices((data, labels))"
   ]
  },
  {
   "cell_type": "code",
   "execution_count": 24,
   "metadata": {},
   "outputs": [],
   "source": [
    "def prep_data(train, lab, batch_size):\n",
    "    tf_dataset = conv_data(train, lab)\n",
    "    tf_dataset = tf_dataset.batch(batch_size)\n",
    "    tf_dataset = tf_dataset.prefetch(tf.data.AUTOTUNE)\n",
    "    return tf_dataset"
   ]
  },
  {
   "cell_type": "code",
   "execution_count": 29,
   "metadata": {},
   "outputs": [],
   "source": [
    "tf_dataset = prep_data(train_set, train_labels, 124)\n",
    "tf_val_dataset = prep_data(val_set, val_labels, 124)"
   ]
  },
  {
   "cell_type": "markdown",
   "metadata": {},
   "source": [
    "Tensorflow model:\n",
    "\n",
    "Protein classification\n"
   ]
  },
  {
   "cell_type": "code",
   "execution_count": 26,
   "metadata": {},
   "outputs": [],
   "source": [
    "# Compute class weights\n",
    "\n",
    "\n",
    "class_weights = compute_class_weight(\n",
    "    class_weight=\"balanced\", classes=np.unique(train_labels), y=train_labels\n",
    ")\n",
    "class_weights = dict(enumerate(class_weights))"
   ]
  },
  {
   "cell_type": "code",
   "execution_count": 27,
   "metadata": {},
   "outputs": [
    {
     "name": "stdout",
     "output_type": "stream",
     "text": [
      "Model: \"sequential\"\n",
      "_________________________________________________________________\n",
      " Layer (type)                Output Shape              Param #   \n",
      "=================================================================\n",
      " gru (GRU)                   (None, 62, 300)           1423800   \n",
      "                                                                 \n",
      " gru_1 (GRU)                 (None, 124)               158472    \n",
      "                                                                 \n",
      " dense (Dense)               (None, 2)                 250       \n",
      "                                                                 \n",
      "=================================================================\n",
      "Total params: 1582522 (6.04 MB)\n",
      "Trainable params: 1582522 (6.04 MB)\n",
      "Non-trainable params: 0 (0.00 Byte)\n",
      "_________________________________________________________________\n"
     ]
    }
   ],
   "source": [
    "model_tf = tf.keras.Sequential(\n",
    "    [\n",
    "        tf.keras.layers.Input(shape=(62, 1280)),\n",
    "        tf.keras.layers.GRU(300, return_sequences=True, dropout=0.1),\n",
    "        tf.keras.layers.GRU(124, dropout=0.1),\n",
    "        tf.keras.layers.Dense(2, activation=\"softmax\"),\n",
    "    ]\n",
    ")\n",
    "optimizer = tf.keras.optimizers.Adam(learning_rate=0.0001)\n",
    "model_tf.summary()\n",
    "model_tf.compile(\n",
    "    optimizer=optimizer,\n",
    "    loss=\"sparse_categorical_crossentropy\",\n",
    "    metrics=[\"accuracy\"],\n",
    ")"
   ]
  },
  {
   "cell_type": "code",
   "execution_count": 30,
   "metadata": {},
   "outputs": [
    {
     "name": "stdout",
     "output_type": "stream",
     "text": [
      "Epoch 1/500\n",
      "33/33 [==============================] - 20s 505ms/step - loss: 0.6908 - accuracy: 0.5567 - val_loss: 0.6861 - val_accuracy: 0.4837\n",
      "Epoch 2/500\n",
      "33/33 [==============================] - 19s 570ms/step - loss: 0.6813 - accuracy: 0.4895 - val_loss: 0.6762 - val_accuracy: 0.5163\n",
      "Epoch 3/500\n",
      "33/33 [==============================] - 21s 631ms/step - loss: 0.6677 - accuracy: 0.5325 - val_loss: 0.6548 - val_accuracy: 0.5716\n",
      "Epoch 4/500\n",
      "33/33 [==============================] - 21s 649ms/step - loss: 0.6169 - accuracy: 0.6520 - val_loss: 0.5571 - val_accuracy: 0.7167\n",
      "Epoch 5/500\n",
      "33/33 [==============================] - 21s 647ms/step - loss: 0.5501 - accuracy: 0.7145 - val_loss: 0.5305 - val_accuracy: 0.7315\n",
      "Epoch 6/500\n",
      "33/33 [==============================] - 21s 641ms/step - loss: 0.5138 - accuracy: 0.7431 - val_loss: 0.5170 - val_accuracy: 0.7581\n",
      "Epoch 7/500\n",
      "33/33 [==============================] - 21s 643ms/step - loss: 0.4922 - accuracy: 0.7528 - val_loss: 0.5183 - val_accuracy: 0.7562\n",
      "Epoch 8/500\n",
      "33/33 [==============================] - 21s 647ms/step - loss: 0.4758 - accuracy: 0.7604 - val_loss: 0.5228 - val_accuracy: 0.7463\n",
      "Epoch 9/500\n",
      "33/33 [==============================] - 23s 692ms/step - loss: 0.4605 - accuracy: 0.7750 - val_loss: 0.5362 - val_accuracy: 0.7335\n"
     ]
    },
    {
     "data": {
      "text/plain": [
       "<keras.src.callbacks.History at 0x1ca7ef75050>"
      ]
     },
     "execution_count": 30,
     "metadata": {},
     "output_type": "execute_result"
    }
   ],
   "source": [
    "callback = tf.keras.callbacks.EarlyStopping(monitor=\"val_loss\", patience=3)\n",
    "\n",
    "model_tf.fit(\n",
    "    tf_dataset,\n",
    "    epochs=500,\n",
    "    validation_data=tf_val_dataset,\n",
    "    callbacks=callback,\n",
    "    class_weight=class_weights,\n",
    ")"
   ]
  },
  {
   "cell_type": "code",
   "execution_count": 31,
   "metadata": {},
   "outputs": [],
   "source": [
    "def plot_history(history, metric):\n",
    "    plt.plot(history.history[f\"{metric}\"])\n",
    "    plt.plot(history.history[f\"val_{metric}\"])\n",
    "    plt.title(f\"model {metric}\")\n",
    "    plt.legend([\"train\", \"test\"], loc=\"upper left\")\n",
    "    plt.ylabel(f\"{metric}\")\n",
    "    plt.xlabel(\"epoch\")\n",
    "    plt.show()"
   ]
  },
  {
   "cell_type": "code",
   "execution_count": 32,
   "metadata": {},
   "outputs": [
    {
     "data": {
      "image/png": "[encoded data removed]",
      "text/plain": [
       "<Figure size 640x480 with 1 Axes>"
      ]
     },
     "metadata": {},
     "output_type": "display_data"
    },
    {
     "data": {
      "image/png": "[encoded data removed]",
      "text/plain": [
       "<Figure size 640x480 with 1 Axes>"
      ]
     },
     "metadata": {},
     "output_type": "display_data"
    }
   ],
   "source": [
    "plot_history(model_tf.history, \"accuracy\")\n",
    "plot_history(model_tf.history, \"loss\")"
   ]
  },
  {
   "cell_type": "code",
   "execution_count": 33,
   "metadata": {},
   "outputs": [
    {
     "name": "stdout",
     "output_type": "stream",
     "text": [
      "16/16 [==============================] - 2s 87ms/step\n"
     ]
    },
    {
     "data": {
      "image/png": "[encoded data removed]",
      "text/plain": [
       "<Figure size 640x480 with 2 Axes>"
      ]
     },
     "metadata": {},
     "output_type": "display_data"
    }
   ],
   "source": [
    "ConfusionMatrixDisplay.from_predictions(\n",
    "    val_labels,\n",
    "    model_tf.predict(prep_data(val_set, val_labels, 64)).argmax(axis=1),\n",
    "    cmap=\"Blues\",\n",
    "    normalize=\"true\",\n",
    "    display_labels=[\"Non-PU\", \"PU\"],\n",
    ")\n",
    "plt.show()"
   ]
  },
  {
   "cell_type": "code",
   "execution_count": 34,
   "metadata": {},
   "outputs": [
    {
     "name": "stdout",
     "output_type": "stream",
     "text": [
      "16/16 [==============================] - 2s 104ms/step\n",
      "Balanced accuracy:  0.744148893681604\n"
     ]
    }
   ],
   "source": [
    "# Compute balanced accuracy\n",
    "\n",
    "print(\n",
    "    \"Balanced accuracy: \",\n",
    "    balanced_accuracy_score(\n",
    "        val_labels, model_tf.predict(prep_data(val_set, val_labels, 64)).argmax(axis=1)\n",
    "    ),\n",
    ")"
   ]
  },
  {
   "cell_type": "code",
   "execution_count": 39,
   "metadata": {},
   "outputs": [],
   "source": [
    "EMB_UNKOWN = \"./embeddings/unknown\"\n",
    "unknown = seq_data.loc[(seq_data[\"Is_pu\"] == 2)][[\"Sequence\", \"file\"]]"
   ]
  },
  {
   "cell_type": "code",
   "execution_count": null,
   "metadata": {},
   "outputs": [],
   "source": [
    "embedding_preparation(unknown, EMB_UNKOWN)"
   ]
  },
  {
   "cell_type": "code",
   "execution_count": 43,
   "metadata": {},
   "outputs": [],
   "source": [
    "tensor_unknown = tf.convert_to_tensor(\n",
    "    torch.load(EMB_UNKOWN + \"/1A0CA_1_1_385.pt\")[\"representations\"][33][0]\n",
    ")"
   ]
  },
  {
   "cell_type": "code",
   "execution_count": 56,
   "metadata": {},
   "outputs": [],
   "source": [
    "set_unknown = tf.data.Dataset.from_tensor_slices(\n",
    "    (tensor_unknown, [2] * len(tensor_unknown))\n",
    ")\n",
    "set_unknown = set_unknown.batch(128)\n",
    "set_unknown = set_unknown.prefetch(tf.data.AUTOTUNE)"
   ]
  },
  {
   "cell_type": "code",
   "execution_count": 57,
   "metadata": {},
   "outputs": [
    {
     "ename": "TypeError",
     "evalue": "in user code:\n\n    File \"C:\\Users\\mathi\\AppData\\Local\\Packages\\PythonSoftwareFoundation.Python.3.11_qbz5n2kfra8p0\\LocalCache\\local-packages\\Python311\\site-packages\\keras\\src\\engine\\training.py\", line 2416, in predict_function  *\n        return step_function(self, iterator)\n    File \"C:\\Users\\mathi\\AppData\\Local\\Packages\\PythonSoftwareFoundation.Python.3.11_qbz5n2kfra8p0\\LocalCache\\local-packages\\Python311\\site-packages\\keras\\src\\engine\\training.py\", line 2401, in step_function  **\n        outputs = model.distribute_strategy.run(run_step, args=(data,))\n    File \"C:\\Users\\mathi\\AppData\\Local\\Packages\\PythonSoftwareFoundation.Python.3.11_qbz5n2kfra8p0\\LocalCache\\local-packages\\Python311\\site-packages\\keras\\src\\engine\\training.py\", line 2389, in run_step  **\n        outputs = model.predict_step(data)\n    File \"C:\\Users\\mathi\\AppData\\Local\\Packages\\PythonSoftwareFoundation.Python.3.11_qbz5n2kfra8p0\\LocalCache\\local-packages\\Python311\\site-packages\\keras\\src\\engine\\training.py\", line 2357, in predict_step\n        return self(x, training=False)\n    File \"C:\\Users\\mathi\\AppData\\Local\\Packages\\PythonSoftwareFoundation.Python.3.11_qbz5n2kfra8p0\\LocalCache\\local-packages\\Python311\\site-packages\\keras\\src\\utils\\traceback_utils.py\", line 70, in error_handler\n        raise e.with_traceback(filtered_tb) from None\n    File \"C:\\Users\\mathi\\AppData\\Local\\Packages\\PythonSoftwareFoundation.Python.3.11_qbz5n2kfra8p0\\LocalCache\\local-packages\\Python311\\site-packages\\keras\\src\\layers\\rnn\\gru.py\", line 643, in call\n        timesteps = input_shape[0] if self.time_major else input_shape[1]\n\n    TypeError: Exception encountered when calling layer 'gru' (type GRU).\n    \n    'NoneType' object is not subscriptable\n    \n    Call arguments received by layer 'gru' (type GRU):\n      • inputs=tf.Tensor(shape=<unknown>, dtype=float32)\n      • mask=None\n      • training=False\n      • initial_state=None\n",
     "output_type": "error",
     "traceback": [
      "\u001b[1;31m---------------------------------------------------------------------------\u001b[0m",
      "\u001b[1;31mTypeError\u001b[0m                                 Traceback (most recent call last)",
      "Cell \u001b[1;32mIn[57], line 1\u001b[0m\n\u001b[1;32m----> 1\u001b[0m \u001b[43mmodel_tf\u001b[49m\u001b[38;5;241;43m.\u001b[39;49m\u001b[43mpredict\u001b[49m\u001b[43m(\u001b[49m\u001b[43mset_unknown\u001b[49m\u001b[43m)\u001b[49m\n",
      "File \u001b[1;32m~\\AppData\\Local\\Packages\\PythonSoftwareFoundation.Python.3.11_qbz5n2kfra8p0\\LocalCache\\local-packages\\Python311\\site-packages\\keras\\src\\utils\\traceback_utils.py:70\u001b[0m, in \u001b[0;36mfilter_traceback.<locals>.error_handler\u001b[1;34m(*args, **kwargs)\u001b[0m\n\u001b[0;32m     67\u001b[0m     filtered_tb \u001b[38;5;241m=\u001b[39m _process_traceback_frames(e\u001b[38;5;241m.\u001b[39m__traceback__)\n\u001b[0;32m     68\u001b[0m     \u001b[38;5;66;03m# To get the full stack trace, call:\u001b[39;00m\n\u001b[0;32m     69\u001b[0m     \u001b[38;5;66;03m# `tf.debugging.disable_traceback_filtering()`\u001b[39;00m\n\u001b[1;32m---> 70\u001b[0m     \u001b[38;5;28;01mraise\u001b[39;00m e\u001b[38;5;241m.\u001b[39mwith_traceback(filtered_tb) \u001b[38;5;28;01mfrom\u001b[39;00m \u001b[38;5;28;01mNone\u001b[39;00m\n\u001b[0;32m     71\u001b[0m \u001b[38;5;28;01mfinally\u001b[39;00m:\n\u001b[0;32m     72\u001b[0m     \u001b[38;5;28;01mdel\u001b[39;00m filtered_tb\n",
      "File \u001b[1;32m~\\AppData\\Local\\Temp\\__autograph_generated_file1ii93m7z.py:15\u001b[0m, in \u001b[0;36mouter_factory.<locals>.inner_factory.<locals>.tf__predict_function\u001b[1;34m(iterator)\u001b[0m\n\u001b[0;32m     13\u001b[0m \u001b[38;5;28;01mtry\u001b[39;00m:\n\u001b[0;32m     14\u001b[0m     do_return \u001b[38;5;241m=\u001b[39m \u001b[38;5;28;01mTrue\u001b[39;00m\n\u001b[1;32m---> 15\u001b[0m     retval_ \u001b[38;5;241m=\u001b[39m ag__\u001b[38;5;241m.\u001b[39mconverted_call(ag__\u001b[38;5;241m.\u001b[39mld(step_function), (ag__\u001b[38;5;241m.\u001b[39mld(\u001b[38;5;28mself\u001b[39m), ag__\u001b[38;5;241m.\u001b[39mld(iterator)), \u001b[38;5;28;01mNone\u001b[39;00m, fscope)\n\u001b[0;32m     16\u001b[0m \u001b[38;5;28;01mexcept\u001b[39;00m:\n\u001b[0;32m     17\u001b[0m     do_return \u001b[38;5;241m=\u001b[39m \u001b[38;5;28;01mFalse\u001b[39;00m\n",
      "\u001b[1;31mTypeError\u001b[0m: in user code:\n\n    File \"C:\\Users\\mathi\\AppData\\Local\\Packages\\PythonSoftwareFoundation.Python.3.11_qbz5n2kfra8p0\\LocalCache\\local-packages\\Python311\\site-packages\\keras\\src\\engine\\training.py\", line 2416, in predict_function  *\n        return step_function(self, iterator)\n    File \"C:\\Users\\mathi\\AppData\\Local\\Packages\\PythonSoftwareFoundation.Python.3.11_qbz5n2kfra8p0\\LocalCache\\local-packages\\Python311\\site-packages\\keras\\src\\engine\\training.py\", line 2401, in step_function  **\n        outputs = model.distribute_strategy.run(run_step, args=(data,))\n    File \"C:\\Users\\mathi\\AppData\\Local\\Packages\\PythonSoftwareFoundation.Python.3.11_qbz5n2kfra8p0\\LocalCache\\local-packages\\Python311\\site-packages\\keras\\src\\engine\\training.py\", line 2389, in run_step  **\n        outputs = model.predict_step(data)\n    File \"C:\\Users\\mathi\\AppData\\Local\\Packages\\PythonSoftwareFoundation.Python.3.11_qbz5n2kfra8p0\\LocalCache\\local-packages\\Python311\\site-packages\\keras\\src\\engine\\training.py\", line 2357, in predict_step\n        return self(x, training=False)\n    File \"C:\\Users\\mathi\\AppData\\Local\\Packages\\PythonSoftwareFoundation.Python.3.11_qbz5n2kfra8p0\\LocalCache\\local-packages\\Python311\\site-packages\\keras\\src\\utils\\traceback_utils.py\", line 70, in error_handler\n        raise e.with_traceback(filtered_tb) from None\n    File \"C:\\Users\\mathi\\AppData\\Local\\Packages\\PythonSoftwareFoundation.Python.3.11_qbz5n2kfra8p0\\LocalCache\\local-packages\\Python311\\site-packages\\keras\\src\\layers\\rnn\\gru.py\", line 643, in call\n        timesteps = input_shape[0] if self.time_major else input_shape[1]\n\n    TypeError: Exception encountered when calling layer 'gru' (type GRU).\n    \n    'NoneType' object is not subscriptable\n    \n    Call arguments received by layer 'gru' (type GRU):\n      • inputs=tf.Tensor(shape=<unknown>, dtype=float32)\n      • mask=None\n      • training=False\n      • initial_state=None\n"
     ]
    }
   ],
   "source": [
    "# work on size to make it predict for only one element\n",
    "model_tf.predict(set_unknown)\n"
   ]
  }
 ],
 "metadata": {
  "kernelspec": {
   "display_name": "Python 3",
   "language": "python",
   "name": "python3"
  },
  "language_info": {
   "codemirror_mode": {
    "name": "ipython",
    "version": 3
   },
   "file_extension": ".py",
   "mimetype": "text/x-python",
   "name": "python",
   "nbconvert_exporter": "python",
   "pygments_lexer": "ipython3",
   "version": "3.11.7"
  }
 },
 "nbformat": 4,
 "nbformat_minor": 2
}
